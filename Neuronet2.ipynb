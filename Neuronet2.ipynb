{
 "cells": [
  {
   "cell_type": "code",
   "execution_count": 1,
   "metadata": {
    "collapsed": false
   },
   "outputs": [
    {
     "name": "stderr",
     "output_type": "stream",
     "text": [
      "Using TensorFlow backend.\n"
     ]
    }
   ],
   "source": [
    "from IPython.display import display\n",
    "import matplotlib.pyplot as plt\n",
    "import pandas as pd\n",
    "import numpy as np\n",
    "%matplotlib inline\n",
    "from keras.models import Model\n",
    "from keras.layers import GRU, concatenate, Input, Dense\n",
    "from sklearn.model_selection import train_test_split\n",
    "from keras.callbacks import ModelCheckpoint\n",
    "from keras.callbacks import EarlyStopping\n",
    "\n",
    "modelList = []\n",
    "history = []\n",
    "xaxis = []  \n",
    "refit_history = []\n",
    "refit_xaxis = []\n",
    "    \n",
    "import time\n",
    "import keras\n",
    "class TimeHistory(keras.callbacks.Callback):\n",
    "    def on_train_begin(self, logs={}):\n",
    "        self.times = []\n",
    "        self.start = time.time()\n",
    "    #def on_epoch_begin(self, batch, logs={}):\n",
    "    def on_epoch_end(self, batch, logs={}):\n",
    "        self.times.append(time.time() - self.start)\n",
    "        \n",
    "from keras.callbacks import Callback\n",
    "class TimedStopping(Callback):\n",
    "    '''Stop training when enough time has passed.\n",
    "    # Arguments\n",
    "        seconds: maximum time before stopping.\n",
    "        verbose: verbosity mode.\n",
    "    '''\n",
    "    def __init__(self, seconds=None, verbose=0):\n",
    "        super(Callback, self).__init__()\n",
    "\n",
    "        self.start_time = 0\n",
    "        self.seconds = seconds\n",
    "        self.verbose = verbose\n",
    "    def on_train_begin(self, logs={}):\n",
    "        self.start_time = time.time()\n",
    "    def on_epoch_end(self, epoch, logs={}):\n",
    "        if time.time() - self.start_time > self.seconds:\n",
    "            self.model.stop_training = True\n",
    "            if self.verbose:\n",
    "                print('Stopping after %s seconds.' % self.seconds)\n",
    "                \n",
    "def Plot(i, text = 'acc', label = ''):\n",
    "    plt.plot(xaxis[i], history[i].history['val_'+text], label = label)\n",
    "def Plot2(i, j, text = 'acc', label = ''):\n",
    "    plt.plot(xaxis[i]+[t+xaxis[i][-1] for t in refit_xaxis[j]]\n",
    "             , history[i].history['val_'+text]+refit_history[j].history['val_'+text], label = label)"
   ]
  },
  {
   "cell_type": "markdown",
   "metadata": {},
   "source": [
    "# Already done, do not do again"
   ]
  },
  {
   "cell_type": "code",
   "execution_count": 2,
   "metadata": {
    "collapsed": true
   },
   "outputs": [],
   "source": [
    "weatherData = np.concatenate((np.load('weatherData1991.npy'),np.load('FullweatherData.npy'),np.load('weatherData2000_04.npy'),\n",
    "                             np.load('weatherData2005_09.npy'),np.load('weatherData2010_15.npy')))\n",
    "df = (pd.DataFrame(np.load('NewFireData.npy'), columns=['day', 'lat', 'lon', 'num_cause', 'tarray', 'xybinarray', 'fire'])\n",
    "      .drop('num_cause',axis=1).astype(int, copy=False))\n",
    "\n",
    "def moddf(df):\n",
    "    df0 = df.drop(['tarray', 'xybinarray'],axis=1).values\n",
    "    df0 = (df0-df0.mean())/ df0.std()\n",
    "    \n",
    "    tarray = df['tarray'].values\n",
    "    xybinarray = df['xybinarray'].values\n",
    "    df1 = np.empty((len(df),31,4))\n",
    "    for i in range(0,31):\n",
    "        for j in range(0,4):\n",
    "            df1[:,i,j] = weatherData[tarray-i, xybinarray,j]\n",
    "    # Normalize features\n",
    "    df1 = (df1-df1.mean())/ df1.std()\n",
    "    \n",
    "    return df0, df1\n",
    "\n",
    "xdf = df.drop('fire',axis=1)\n",
    "y = df['fire'].values\n",
    "x0, x1 = moddf(xdf)\n",
    "X0, X0_test, X1, X1_test, y, y_test = train_test_split(\n",
    "    x0, x1, y, test_size=0.1, shuffle=True)\n",
    "X0_train, X0_val, X1_train, X1_val, y_train, y_val = train_test_split(\n",
    "    X0, X1, y, test_size=0.1, shuffle=True)\n",
    "\n",
    "np.save('X0_train', X0_train, allow_pickle=True, fix_imports=False)\n",
    "np.save('X1_train', X1_train, allow_pickle=True, fix_imports=False)\n",
    "np.save('y_train', y_train, allow_pickle=True, fix_imports=False)\n",
    "np.save('X0_val', X0_val, allow_pickle=True, fix_imports=False)\n",
    "np.save('X1_val', X1_val, allow_pickle=True, fix_imports=False)\n",
    "np.save('y_val', y_val, allow_pickle=True, fix_imports=False)\n",
    "np.save('X0_test', X0_test, allow_pickle=True, fix_imports=False)\n",
    "np.save('X1_test', X1_test, allow_pickle=True, fix_imports=False)\n",
    "np.save('y_test', y_test, allow_pickle=True, fix_imports=False)"
   ]
  },
  {
   "cell_type": "markdown",
   "metadata": {},
   "source": [
    "# Train neuronet"
   ]
  },
  {
   "cell_type": "code",
   "execution_count": 2,
   "metadata": {
    "collapsed": true
   },
   "outputs": [],
   "source": [
    "X0_train = np.load('X0_train.npy', mmap_mode='r')\n",
    "X1_train = np.load('X1_train.npy', mmap_mode='r')\n",
    "y_train = np.load('y_train.npy', mmap_mode='r')\n",
    "X0_val = np.load('X0_val.npy')\n",
    "X1_val = np.load('X1_val.npy')\n",
    "y_val = np.load('y_val.npy')\n",
    "X0_test = np.load('X0_test.npy')\n",
    "X1_test = np.load('X1_test.npy')\n",
    "y_test = np.load('y_test.npy')"
   ]
  },
  {
   "cell_type": "code",
   "execution_count": 3,
   "metadata": {
    "collapsed": true
   },
   "outputs": [],
   "source": [
    "length_train = 2973745\n",
    "indices = np.arange(length_train, dtype=int)\n",
    "\n",
    "def generator(batchSize=512):\n",
    "    while True:\n",
    "        np.random.shuffle(indices)\n",
    "        for i in range(0, len(indices), batchSize):\n",
    "            batch_indices = indices[i:i+batchSize]\n",
    "            batch_indices.sort()\n",
    "\n",
    "            bx0 = X0_train[batch_indices,...]\n",
    "            bx1 = X1_train[batch_indices,...]\n",
    "            by = y_train[batch_indices,...]\n",
    "\n",
    "            yield ([bx0,bx1], by)"
   ]
  },
  {
   "cell_type": "code",
   "execution_count": 4,
   "metadata": {
    "collapsed": true
   },
   "outputs": [],
   "source": [
    "def fit(nUnits, batchSize, timelimit, nlayer):\n",
    "    x0 = Input(shape=(3,)) # location\n",
    "    x1 = Input(shape=(31,4)) # weather\n",
    "    # first\n",
    "    inistate = Dense(nUnits, activation = 'relu')(x0)\n",
    "    x = GRU(nUnits, return_sequences=True)(x1, initial_state = inistate) \n",
    "    # nlayer middle layers\n",
    "    for _ in range(nlayer): \n",
    "        inistate = Dense(nUnits, activation = 'relu')(inistate)\n",
    "        x = GRU(nUnits, return_sequences=True)(x, initial_state = inistate) \n",
    "    # last\n",
    "    inistate = Dense(nUnits, activation = 'relu')(inistate)\n",
    "    x = GRU(nUnits, return_sequences=False)(x, initial_state = inistate) \n",
    "    x = Dense(1, activation='sigmoid')(x)\n",
    "\n",
    "    model = Model(inputs=[x0,x1], outputs=x)\n",
    "    time_callback = TimeHistory()\n",
    "    timed_stopping = TimedStopping(timelimit)\n",
    "    model.compile(optimizer='adam', metrics=['acc'],\n",
    "                  loss='binary_crossentropy')\n",
    "    history.append(model.fit_generator(generator(batchSize),steps_per_epoch = 2973745//batchSize\n",
    "                                        ,epochs=100, verbose=2, \n",
    "              validation_data=([X0_val,X1_val], y_val),callbacks=[time_callback, timed_stopping]))\n",
    "    xaxis.append(time_callback.times)\n",
    "    modelList.append(model) \n",
    "    \n",
    "def refit(batchsize, timelimit, model):\n",
    "    time_callback = TimeHistory()\n",
    "    timed_stopping = TimedStopping(timelimit)\n",
    "    es = EarlyStopping(monitor='val_loss', min_delta=0., patience=10)\n",
    "    refit_history.append(model.fit_generator(generator(batchSize),steps_per_epoch = 2973745//batchSize\n",
    "                                        ,epochs=200, batch_size=batchsize,verbose=2, shuffle=True, \n",
    "              validation_data=([X0_val,X1_val], y_val),callbacks=[time_callback, timed_stopping, es]))\n",
    "    refit_xaxis.append(time_callback.times)"
   ]
  },
  {
   "cell_type": "code",
   "execution_count": 16,
   "metadata": {
    "collapsed": false
   },
   "outputs": [
    {
     "name": "stdout",
     "output_type": "stream",
     "text": [
      "Epoch 1/100\n",
      "5045s - loss: 0.6269 - acc: 0.6348 - val_loss: 0.6086 - val_acc: 0.6635\n"
     ]
    }
   ],
   "source": [
    "fit(nUnits = 80, batchSize = 1024, timelimit = 300, nlayer = 1)"
   ]
  },
  {
   "cell_type": "markdown",
   "metadata": {},
   "source": [
    "So the accuracy is very low after 5045 s (1.4 hours).\n",
    "\n",
    "With less fires, I had an accuracy of 71% after 4000 s. Correlation in time might be useful and now it's harder to learn them because it's on more years.\n",
    "\n",
    "Hopefully, it'll get better with more epochs.\n",
    "\n",
    "Python is using 2.6 GB right now even with the generator. I should look what makes the memory usage."
   ]
  },
  {
   "cell_type": "code",
   "execution_count": 22,
   "metadata": {
    "collapsed": false
   },
   "outputs": [],
   "source": [
    "# !!! Already done\n",
    "\n",
    "modelList[0].save('my_model5045.h5')\n",
    "# try save weight in case saving model doesn't work\n",
    "modelList[0].save_weights('my_model_weights5045.h5')"
   ]
  },
  {
   "cell_type": "code",
   "execution_count": 5,
   "metadata": {
    "collapsed": false,
    "scrolled": true
   },
   "outputs": [
    {
     "ename": "ValueError",
     "evalue": "Layer gru_13 expects 1 inputs, but it received 2 input tensors. Input received: [<tf.Tensor 'input_10:0' shape=(?, 31, 4) dtype=float32>, <tf.Tensor 'dense_17/Relu:0' shape=(?, 80) dtype=float32>]",
     "output_type": "error",
     "traceback": [
      "\u001b[1;31m---------------------------------------------------------------------------\u001b[0m",
      "\u001b[1;31mValueError\u001b[0m                                Traceback (most recent call last)",
      "\u001b[1;32m<ipython-input-5-616f88763232>\u001b[0m in \u001b[0;36m<module>\u001b[1;34m()\u001b[0m\n\u001b[0;32m      1\u001b[0m \u001b[1;32mfrom\u001b[0m \u001b[0mkeras\u001b[0m\u001b[1;33m.\u001b[0m\u001b[0mmodels\u001b[0m \u001b[1;32mimport\u001b[0m \u001b[0mload_model\u001b[0m\u001b[1;33m\u001b[0m\u001b[0m\n\u001b[1;32m----> 2\u001b[1;33m \u001b[0mmodel\u001b[0m \u001b[1;33m=\u001b[0m \u001b[0mload_model\u001b[0m\u001b[1;33m(\u001b[0m\u001b[1;34m'my_model5045.h5'\u001b[0m\u001b[1;33m)\u001b[0m\u001b[1;33m\u001b[0m\u001b[0m\n\u001b[0m",
      "\u001b[1;32m~\\Anaconda3\\envs\\tensorflowgpu\\lib\\site-packages\\keras\\models.py\u001b[0m in \u001b[0;36mload_model\u001b[1;34m(filepath, custom_objects, compile)\u001b[0m\n\u001b[0;32m    231\u001b[0m             \u001b[1;32mraise\u001b[0m \u001b[0mValueError\u001b[0m\u001b[1;33m(\u001b[0m\u001b[1;34m'No model found in config file.'\u001b[0m\u001b[1;33m)\u001b[0m\u001b[1;33m\u001b[0m\u001b[0m\n\u001b[0;32m    232\u001b[0m         \u001b[0mmodel_config\u001b[0m \u001b[1;33m=\u001b[0m \u001b[0mjson\u001b[0m\u001b[1;33m.\u001b[0m\u001b[0mloads\u001b[0m\u001b[1;33m(\u001b[0m\u001b[0mmodel_config\u001b[0m\u001b[1;33m.\u001b[0m\u001b[0mdecode\u001b[0m\u001b[1;33m(\u001b[0m\u001b[1;34m'utf-8'\u001b[0m\u001b[1;33m)\u001b[0m\u001b[1;33m)\u001b[0m\u001b[1;33m\u001b[0m\u001b[0m\n\u001b[1;32m--> 233\u001b[1;33m         \u001b[0mmodel\u001b[0m \u001b[1;33m=\u001b[0m \u001b[0mmodel_from_config\u001b[0m\u001b[1;33m(\u001b[0m\u001b[0mmodel_config\u001b[0m\u001b[1;33m,\u001b[0m \u001b[0mcustom_objects\u001b[0m\u001b[1;33m=\u001b[0m\u001b[0mcustom_objects\u001b[0m\u001b[1;33m)\u001b[0m\u001b[1;33m\u001b[0m\u001b[0m\n\u001b[0m\u001b[0;32m    234\u001b[0m \u001b[1;33m\u001b[0m\u001b[0m\n\u001b[0;32m    235\u001b[0m         \u001b[1;31m# set weights\u001b[0m\u001b[1;33m\u001b[0m\u001b[1;33m\u001b[0m\u001b[0m\n",
      "\u001b[1;32m~\\Anaconda3\\envs\\tensorflowgpu\\lib\\site-packages\\keras\\models.py\u001b[0m in \u001b[0;36mmodel_from_config\u001b[1;34m(config, custom_objects)\u001b[0m\n\u001b[0;32m    305\u001b[0m                         \u001b[1;34m'Maybe you meant to use '\u001b[0m\u001b[1;33m\u001b[0m\u001b[0m\n\u001b[0;32m    306\u001b[0m                         '`Sequential.from_config(config)`?')\n\u001b[1;32m--> 307\u001b[1;33m     \u001b[1;32mreturn\u001b[0m \u001b[0mlayer_module\u001b[0m\u001b[1;33m.\u001b[0m\u001b[0mdeserialize\u001b[0m\u001b[1;33m(\u001b[0m\u001b[0mconfig\u001b[0m\u001b[1;33m,\u001b[0m \u001b[0mcustom_objects\u001b[0m\u001b[1;33m=\u001b[0m\u001b[0mcustom_objects\u001b[0m\u001b[1;33m)\u001b[0m\u001b[1;33m\u001b[0m\u001b[0m\n\u001b[0m\u001b[0;32m    308\u001b[0m \u001b[1;33m\u001b[0m\u001b[0m\n\u001b[0;32m    309\u001b[0m \u001b[1;33m\u001b[0m\u001b[0m\n",
      "\u001b[1;32m~\\Anaconda3\\envs\\tensorflowgpu\\lib\\site-packages\\keras\\layers\\__init__.py\u001b[0m in \u001b[0;36mdeserialize\u001b[1;34m(config, custom_objects)\u001b[0m\n\u001b[0;32m     52\u001b[0m                                     \u001b[0mmodule_objects\u001b[0m\u001b[1;33m=\u001b[0m\u001b[0mglobs\u001b[0m\u001b[1;33m,\u001b[0m\u001b[1;33m\u001b[0m\u001b[0m\n\u001b[0;32m     53\u001b[0m                                     \u001b[0mcustom_objects\u001b[0m\u001b[1;33m=\u001b[0m\u001b[0mcustom_objects\u001b[0m\u001b[1;33m,\u001b[0m\u001b[1;33m\u001b[0m\u001b[0m\n\u001b[1;32m---> 54\u001b[1;33m                                     printable_module_name='layer')\n\u001b[0m",
      "\u001b[1;32m~\\Anaconda3\\envs\\tensorflowgpu\\lib\\site-packages\\keras\\utils\\generic_utils.py\u001b[0m in \u001b[0;36mdeserialize_keras_object\u001b[1;34m(identifier, module_objects, custom_objects, printable_module_name)\u001b[0m\n\u001b[0;32m    137\u001b[0m                 return cls.from_config(config['config'],\n\u001b[0;32m    138\u001b[0m                                        custom_objects=dict(list(_GLOBAL_CUSTOM_OBJECTS.items()) +\n\u001b[1;32m--> 139\u001b[1;33m                                                            list(custom_objects.items())))\n\u001b[0m\u001b[0;32m    140\u001b[0m             \u001b[1;32mwith\u001b[0m \u001b[0mCustomObjectScope\u001b[0m\u001b[1;33m(\u001b[0m\u001b[0mcustom_objects\u001b[0m\u001b[1;33m)\u001b[0m\u001b[1;33m:\u001b[0m\u001b[1;33m\u001b[0m\u001b[0m\n\u001b[0;32m    141\u001b[0m                 \u001b[1;32mreturn\u001b[0m \u001b[0mcls\u001b[0m\u001b[1;33m.\u001b[0m\u001b[0mfrom_config\u001b[0m\u001b[1;33m(\u001b[0m\u001b[0mconfig\u001b[0m\u001b[1;33m[\u001b[0m\u001b[1;34m'config'\u001b[0m\u001b[1;33m]\u001b[0m\u001b[1;33m)\u001b[0m\u001b[1;33m\u001b[0m\u001b[0m\n",
      "\u001b[1;32m~\\Anaconda3\\envs\\tensorflowgpu\\lib\\site-packages\\keras\\engine\\topology.py\u001b[0m in \u001b[0;36mfrom_config\u001b[1;34m(cls, config, custom_objects)\u001b[0m\n\u001b[0;32m   2448\u001b[0m \u001b[1;33m\u001b[0m\u001b[0m\n\u001b[0;32m   2449\u001b[0m         \u001b[1;32mfor\u001b[0m \u001b[0mlayer_data\u001b[0m \u001b[1;32min\u001b[0m \u001b[0mconfig\u001b[0m\u001b[1;33m[\u001b[0m\u001b[1;34m'layers'\u001b[0m\u001b[1;33m]\u001b[0m\u001b[1;33m:\u001b[0m\u001b[1;33m\u001b[0m\u001b[0m\n\u001b[1;32m-> 2450\u001b[1;33m             \u001b[0mprocess_layer\u001b[0m\u001b[1;33m(\u001b[0m\u001b[0mlayer_data\u001b[0m\u001b[1;33m)\u001b[0m\u001b[1;33m\u001b[0m\u001b[0m\n\u001b[0m\u001b[0;32m   2451\u001b[0m \u001b[1;33m\u001b[0m\u001b[0m\n\u001b[0;32m   2452\u001b[0m         \u001b[0mname\u001b[0m \u001b[1;33m=\u001b[0m \u001b[0mconfig\u001b[0m\u001b[1;33m.\u001b[0m\u001b[0mget\u001b[0m\u001b[1;33m(\u001b[0m\u001b[1;34m'name'\u001b[0m\u001b[1;33m)\u001b[0m\u001b[1;33m\u001b[0m\u001b[0m\n",
      "\u001b[1;32m~\\Anaconda3\\envs\\tensorflowgpu\\lib\\site-packages\\keras\\engine\\topology.py\u001b[0m in \u001b[0;36mprocess_layer\u001b[1;34m(layer_data)\u001b[0m\n\u001b[0;32m   2445\u001b[0m                         \u001b[0mlayer\u001b[0m\u001b[1;33m(\u001b[0m\u001b[0minput_tensors\u001b[0m\u001b[1;33m[\u001b[0m\u001b[1;36m0\u001b[0m\u001b[1;33m]\u001b[0m\u001b[1;33m,\u001b[0m \u001b[1;33m**\u001b[0m\u001b[0mkwargs\u001b[0m\u001b[1;33m)\u001b[0m\u001b[1;33m\u001b[0m\u001b[0m\n\u001b[0;32m   2446\u001b[0m                     \u001b[1;32melse\u001b[0m\u001b[1;33m:\u001b[0m\u001b[1;33m\u001b[0m\u001b[0m\n\u001b[1;32m-> 2447\u001b[1;33m                         \u001b[0mlayer\u001b[0m\u001b[1;33m(\u001b[0m\u001b[0minput_tensors\u001b[0m\u001b[1;33m,\u001b[0m \u001b[1;33m**\u001b[0m\u001b[0mkwargs\u001b[0m\u001b[1;33m)\u001b[0m\u001b[1;33m\u001b[0m\u001b[0m\n\u001b[0m\u001b[0;32m   2448\u001b[0m \u001b[1;33m\u001b[0m\u001b[0m\n\u001b[0;32m   2449\u001b[0m         \u001b[1;32mfor\u001b[0m \u001b[0mlayer_data\u001b[0m \u001b[1;32min\u001b[0m \u001b[0mconfig\u001b[0m\u001b[1;33m[\u001b[0m\u001b[1;34m'layers'\u001b[0m\u001b[1;33m]\u001b[0m\u001b[1;33m:\u001b[0m\u001b[1;33m\u001b[0m\u001b[0m\n",
      "\u001b[1;32m~\\Anaconda3\\envs\\tensorflowgpu\\lib\\site-packages\\keras\\layers\\recurrent.py\u001b[0m in \u001b[0;36m__call__\u001b[1;34m(self, inputs, initial_state, **kwargs)\u001b[0m\n\u001b[0;32m    260\u001b[0m         \u001b[1;31m# modify the input spec to include the state.\u001b[0m\u001b[1;33m\u001b[0m\u001b[1;33m\u001b[0m\u001b[0m\n\u001b[0;32m    261\u001b[0m         \u001b[1;32mif\u001b[0m \u001b[0minitial_state\u001b[0m \u001b[1;32mis\u001b[0m \u001b[1;32mNone\u001b[0m\u001b[1;33m:\u001b[0m\u001b[1;33m\u001b[0m\u001b[0m\n\u001b[1;32m--> 262\u001b[1;33m             \u001b[1;32mreturn\u001b[0m \u001b[0msuper\u001b[0m\u001b[1;33m(\u001b[0m\u001b[0mRecurrent\u001b[0m\u001b[1;33m,\u001b[0m \u001b[0mself\u001b[0m\u001b[1;33m)\u001b[0m\u001b[1;33m.\u001b[0m\u001b[0m__call__\u001b[0m\u001b[1;33m(\u001b[0m\u001b[0minputs\u001b[0m\u001b[1;33m,\u001b[0m \u001b[1;33m**\u001b[0m\u001b[0mkwargs\u001b[0m\u001b[1;33m)\u001b[0m\u001b[1;33m\u001b[0m\u001b[0m\n\u001b[0m\u001b[0;32m    263\u001b[0m \u001b[1;33m\u001b[0m\u001b[0m\n\u001b[0;32m    264\u001b[0m         \u001b[1;32mif\u001b[0m \u001b[1;32mnot\u001b[0m \u001b[0misinstance\u001b[0m\u001b[1;33m(\u001b[0m\u001b[0minitial_state\u001b[0m\u001b[1;33m,\u001b[0m \u001b[1;33m(\u001b[0m\u001b[0mlist\u001b[0m\u001b[1;33m,\u001b[0m \u001b[0mtuple\u001b[0m\u001b[1;33m)\u001b[0m\u001b[1;33m)\u001b[0m\u001b[1;33m:\u001b[0m\u001b[1;33m\u001b[0m\u001b[0m\n",
      "\u001b[1;32m~\\Anaconda3\\envs\\tensorflowgpu\\lib\\site-packages\\keras\\engine\\topology.py\u001b[0m in \u001b[0;36m__call__\u001b[1;34m(self, inputs, **kwargs)\u001b[0m\n\u001b[0;32m    550\u001b[0m                 \u001b[1;31m# Raise exceptions in case the input is not compatible\u001b[0m\u001b[1;33m\u001b[0m\u001b[1;33m\u001b[0m\u001b[0m\n\u001b[0;32m    551\u001b[0m                 \u001b[1;31m# with the input_spec specified in the layer constructor.\u001b[0m\u001b[1;33m\u001b[0m\u001b[1;33m\u001b[0m\u001b[0m\n\u001b[1;32m--> 552\u001b[1;33m                 \u001b[0mself\u001b[0m\u001b[1;33m.\u001b[0m\u001b[0massert_input_compatibility\u001b[0m\u001b[1;33m(\u001b[0m\u001b[0minputs\u001b[0m\u001b[1;33m)\u001b[0m\u001b[1;33m\u001b[0m\u001b[0m\n\u001b[0m\u001b[0;32m    553\u001b[0m \u001b[1;33m\u001b[0m\u001b[0m\n\u001b[0;32m    554\u001b[0m                 \u001b[1;31m# Collect input shapes to build layer.\u001b[0m\u001b[1;33m\u001b[0m\u001b[1;33m\u001b[0m\u001b[0m\n",
      "\u001b[1;32m~\\Anaconda3\\envs\\tensorflowgpu\\lib\\site-packages\\keras\\engine\\topology.py\u001b[0m in \u001b[0;36massert_input_compatibility\u001b[1;34m(self, inputs)\u001b[0m\n\u001b[0;32m    437\u001b[0m                              \u001b[1;34m'but it received '\u001b[0m \u001b[1;33m+\u001b[0m \u001b[0mstr\u001b[0m\u001b[1;33m(\u001b[0m\u001b[0mlen\u001b[0m\u001b[1;33m(\u001b[0m\u001b[0minputs\u001b[0m\u001b[1;33m)\u001b[0m\u001b[1;33m)\u001b[0m \u001b[1;33m+\u001b[0m\u001b[1;33m\u001b[0m\u001b[0m\n\u001b[0;32m    438\u001b[0m                              \u001b[1;34m' input tensors. Input received: '\u001b[0m \u001b[1;33m+\u001b[0m\u001b[1;33m\u001b[0m\u001b[0m\n\u001b[1;32m--> 439\u001b[1;33m                              str(inputs))\n\u001b[0m\u001b[0;32m    440\u001b[0m         \u001b[1;32mfor\u001b[0m \u001b[0minput_index\u001b[0m\u001b[1;33m,\u001b[0m \u001b[1;33m(\u001b[0m\u001b[0mx\u001b[0m\u001b[1;33m,\u001b[0m \u001b[0mspec\u001b[0m\u001b[1;33m)\u001b[0m \u001b[1;32min\u001b[0m \u001b[0menumerate\u001b[0m\u001b[1;33m(\u001b[0m\u001b[0mzip\u001b[0m\u001b[1;33m(\u001b[0m\u001b[0minputs\u001b[0m\u001b[1;33m,\u001b[0m \u001b[0minput_spec\u001b[0m\u001b[1;33m)\u001b[0m\u001b[1;33m)\u001b[0m\u001b[1;33m:\u001b[0m\u001b[1;33m\u001b[0m\u001b[0m\n\u001b[0;32m    441\u001b[0m             \u001b[1;32mif\u001b[0m \u001b[0mspec\u001b[0m \u001b[1;32mis\u001b[0m \u001b[1;32mNone\u001b[0m\u001b[1;33m:\u001b[0m\u001b[1;33m\u001b[0m\u001b[0m\n",
      "\u001b[1;31mValueError\u001b[0m: Layer gru_13 expects 1 inputs, but it received 2 input tensors. Input received: [<tf.Tensor 'input_10:0' shape=(?, 31, 4) dtype=float32>, <tf.Tensor 'dense_17/Relu:0' shape=(?, 80) dtype=float32>]"
     ]
    }
   ],
   "source": [
    "from keras.models import load_model\n",
    "model = load_model('my_model5045.h5')"
   ]
  },
  {
   "cell_type": "code",
   "execution_count": 7,
   "metadata": {
    "collapsed": false
   },
   "outputs": [
    {
     "name": "stdout",
     "output_type": "stream",
     "text": [
      "Epoch 1/100\n",
      "1328s - loss: 0.6020 - acc: 0.6695 - val_loss: 0.5962 - val_acc: 0.6770\n",
      "Epoch 2/100\n",
      "582s - loss: 0.5928 - acc: 0.6782 - val_loss: 0.5904 - val_acc: 0.6811\n",
      "Epoch 3/100\n",
      "583s - loss: 0.5891 - acc: 0.6809 - val_loss: 0.5891 - val_acc: 0.6817\n",
      "Epoch 4/100\n",
      "582s - loss: 0.5866 - acc: 0.6830 - val_loss: 0.5867 - val_acc: 0.6826\n",
      "Epoch 5/100\n",
      "581s - loss: 0.5846 - acc: 0.6844 - val_loss: 0.5878 - val_acc: 0.6816\n",
      "Epoch 6/100\n",
      "581s - loss: 0.5830 - acc: 0.6855 - val_loss: 0.5834 - val_acc: 0.6855\n",
      "Epoch 7/100\n",
      "584s - loss: 0.5814 - acc: 0.6869 - val_loss: 0.5821 - val_acc: 0.6861\n",
      "Epoch 8/100\n",
      "582s - loss: 0.5798 - acc: 0.6879 - val_loss: 0.5832 - val_acc: 0.6860\n",
      "Epoch 9/100\n",
      "581s - loss: 0.5786 - acc: 0.6887 - val_loss: 0.5837 - val_acc: 0.6845\n",
      "Epoch 10/100\n",
      "583s - loss: 0.5773 - acc: 0.6898 - val_loss: 0.5801 - val_acc: 0.6871\n",
      "Epoch 11/100\n",
      "583s - loss: 0.5762 - acc: 0.6905 - val_loss: 0.5795 - val_acc: 0.6886\n",
      "Epoch 12/100\n",
      "585s - loss: 0.5749 - acc: 0.6916 - val_loss: 0.5782 - val_acc: 0.6892\n",
      "Epoch 13/100\n",
      "581s - loss: 0.5739 - acc: 0.6921 - val_loss: 0.5784 - val_acc: 0.6892\n",
      "Epoch 14/100\n",
      "582s - loss: 0.5730 - acc: 0.6928 - val_loss: 0.5813 - val_acc: 0.6872\n",
      "Epoch 15/100\n",
      "581s - loss: 0.5721 - acc: 0.6935 - val_loss: 0.5784 - val_acc: 0.6897\n",
      "Epoch 16/100\n",
      "584s - loss: 0.5710 - acc: 0.6942 - val_loss: 0.5780 - val_acc: 0.6895\n",
      "Epoch 17/100\n",
      "583s - loss: 0.5703 - acc: 0.6947 - val_loss: 0.5762 - val_acc: 0.6908\n",
      "Epoch 18/100\n",
      "580s - loss: 0.5696 - acc: 0.6952 - val_loss: 0.5761 - val_acc: 0.6908\n",
      "Epoch 19/100\n",
      "580s - loss: 0.5686 - acc: 0.6960 - val_loss: 0.5753 - val_acc: 0.6914\n",
      "Epoch 20/100\n",
      "582s - loss: 0.5679 - acc: 0.6966 - val_loss: 0.5768 - val_acc: 0.6898\n",
      "Epoch 21/100\n",
      "583s - loss: 0.5672 - acc: 0.6968 - val_loss: 0.5756 - val_acc: 0.6915\n",
      "Epoch 22/100\n",
      "583s - loss: 0.5665 - acc: 0.6974 - val_loss: 0.5755 - val_acc: 0.6921\n",
      "Epoch 23/100\n",
      "577s - loss: 0.5660 - acc: 0.6978 - val_loss: 0.5769 - val_acc: 0.6911\n",
      "Epoch 24/100\n",
      "575s - loss: 0.5653 - acc: 0.6984 - val_loss: 0.5768 - val_acc: 0.6907\n"
     ]
    }
   ],
   "source": [
    "# In case it doesn't work\n",
    "def fit_loadweight(nUnits, batchSize, timelimit, nlayer):\n",
    "    x0 = Input(shape=(3,)) # location\n",
    "    x1 = Input(shape=(31,4)) # weather\n",
    "    # first\n",
    "    inistate = Dense(nUnits, activation = 'relu')(x0)\n",
    "    x = GRU(nUnits, return_sequences=True)(x1, initial_state = inistate) \n",
    "    # nlayer middle layers\n",
    "    for _ in range(nlayer): \n",
    "        inistate = Dense(nUnits, activation = 'relu')(inistate)\n",
    "        x = GRU(nUnits, return_sequences=True)(x, initial_state = inistate) \n",
    "    # last\n",
    "    inistate = Dense(nUnits, activation = 'relu')(inistate)\n",
    "    x = GRU(nUnits, return_sequences=False)(x, initial_state = inistate) \n",
    "    x = Dense(1, activation='sigmoid')(x)\n",
    "\n",
    "    model = Model(inputs=[x0,x1], outputs=x)\n",
    "    model.load_weights('my_model_weights5045.h5')\n",
    "    time_callback = TimeHistory()\n",
    "    timed_stopping = TimedStopping(timelimit)\n",
    "    model.compile(optimizer='adam', metrics=['acc'],\n",
    "                  loss='binary_crossentropy')\n",
    "    history.append(model.fit_generator(generator(batchSize),steps_per_epoch = 2973745//batchSize\n",
    "                                        ,epochs=100, verbose=2, \n",
    "              validation_data=([X0_val,X1_val], y_val),callbacks=[time_callback, timed_stopping]))\n",
    "    xaxis.append(time_callback.times)\n",
    "    modelList.append(model)\n",
    "    \n",
    "fit_loadweight(nUnits = 80, batchSize = 1024, timelimit = 4*3600, nlayer = 1)"
   ]
  },
  {
   "cell_type": "markdown",
   "metadata": {
    "collapsed": true
   },
   "source": [
    "The 5045s for the 1st epoch was probably inacurate. Most likely my computer went to sleep during the calculation.\n",
    "\n",
    "However, the accuracy is very low."
   ]
  },
  {
   "cell_type": "code",
   "execution_count": 11,
   "metadata": {
    "collapsed": false
   },
   "outputs": [
    {
     "data": {
      "text/plain": [
       "<matplotlib.legend.Legend at 0x28c40a04710>"
      ]
     },
     "execution_count": 11,
     "metadata": {},
     "output_type": "execute_result"
    },
    {
     "data": {
      "image/png": "[encoded data removed]",
      "text/plain": [
       "<matplotlib.figure.Figure at 0x28c40a043c8>"
      ]
     },
     "metadata": {},
     "output_type": "display_data"
    }
   ],
   "source": [
    "Plot(0, 'acc', '80, 1')\n",
    "plt.legend()\n",
    "\n",
    "# It is still going up so we could improve it by training longer."
   ]
  },
  {
   "cell_type": "code",
   "execution_count": 13,
   "metadata": {
    "collapsed": false
   },
   "outputs": [],
   "source": [
    "modelList[0].save_weights('my_model_weights14k.h5')"
   ]
  },
  {
   "cell_type": "code",
   "execution_count": null,
   "metadata": {
    "collapsed": false
   },
   "outputs": [],
   "source": []
  },
  {
   "cell_type": "code",
   "execution_count": null,
   "metadata": {
    "collapsed": true
   },
   "outputs": [],
   "source": []
  }
 ],
 "metadata": {
  "kernelspec": {
   "display_name": "Python [conda env:tensorflowgpu]",
   "language": "python",
   "name": "conda-env-tensorflowgpu-py"
  },
  "language_info": {
   "codemirror_mode": {
    "name": "ipython",
    "version": 3
   },
   "file_extension": ".py",
   "mimetype": "text/x-python",
   "name": "python",
   "nbconvert_exporter": "python",
   "pygments_lexer": "ipython3",
   "version": "3.5.3"
  }
 },
 "nbformat": 4,
 "nbformat_minor": 2
}
