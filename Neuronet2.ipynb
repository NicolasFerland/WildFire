{
 "cells": [
  {
   "cell_type": "code",
   "execution_count": 45,
   "metadata": {
    "collapsed": false
   },
   "outputs": [],
   "source": [
    "from IPython.display import display\n",
    "import matplotlib.pyplot as plt\n",
    "import pandas as pd\n",
    "import numpy as np\n",
    "%matplotlib inline\n",
    "from keras.models import Model\n",
    "from keras.layers import GRU, Concatenate, Input, Dense\n",
    "from sklearn.model_selection import train_test_split\n",
    "from keras.callbacks import ModelCheckpoint\n",
    "from keras.callbacks import EarlyStopping\n",
    "\n",
    "modelList = []\n",
    "history = []\n",
    "xaxis = []  \n",
    "refit_history = []\n",
    "refit_xaxis = []\n",
    "    \n",
    "import time\n",
    "import keras\n",
    "class TimeHistory(keras.callbacks.Callback):\n",
    "    def on_train_begin(self, logs={}):\n",
    "        self.times = []\n",
    "        self.start = time.time()\n",
    "    #def on_epoch_begin(self, batch, logs={}):\n",
    "    def on_epoch_end(self, batch, logs={}):\n",
    "        self.times.append(time.time() - self.start)\n",
    "        \n",
    "from keras.callbacks import Callback\n",
    "class TimedStopping(Callback):\n",
    "    '''Stop training when enough time has passed.\n",
    "    # Arguments\n",
    "        seconds: maximum time before stopping.\n",
    "        verbose: verbosity mode.\n",
    "    '''\n",
    "    def __init__(self, seconds=None, verbose=0):\n",
    "        super(Callback, self).__init__()\n",
    "\n",
    "        self.start_time = 0\n",
    "        self.seconds = seconds\n",
    "        self.verbose = verbose\n",
    "    def on_train_begin(self, logs={}):\n",
    "        self.start_time = time.time()\n",
    "    def on_epoch_end(self, epoch, logs={}):\n",
    "        if time.time() - self.start_time > self.seconds:\n",
    "            self.model.stop_training = True\n",
    "            if self.verbose:\n",
    "                print('Stopping after %s seconds.' % self.seconds)\n",
    "                \n",
    "def Plot(i, text = 'acc', label = ''):\n",
    "    plt.plot(xaxis[i], history[i].history['val_'+text], label = label)\n",
    "def Plot2(i, j, text = 'acc', label = ''):\n",
    "    plt.plot(xaxis[i]+[t+xaxis[i][-1] for t in refit_xaxis[j]]\n",
    "             , history[i].history['val_'+text]+refit_history[j].history['val_'+text], label = label)"
   ]
  },
  {
   "cell_type": "markdown",
   "metadata": {},
   "source": [
    "# Already done, do not do again"
   ]
  },
  {
   "cell_type": "code",
   "execution_count": 2,
   "metadata": {
    "collapsed": true
   },
   "outputs": [],
   "source": [
    "weatherData = np.concatenate((np.load('weatherData1991.npy'),np.load('FullweatherData.npy'),np.load('weatherData2000_04.npy'),\n",
    "                             np.load('weatherData2005_09.npy'),np.load('weatherData2010_15.npy')))\n",
    "df = (pd.DataFrame(np.load('NewFireData.npy'), columns=['day', 'lat', 'lon', 'num_cause', 'tarray', 'xybinarray', 'fire'])\n",
    "      .drop('num_cause',axis=1).astype(int, copy=False))\n",
    "\n",
    "def moddf(df):\n",
    "    df0 = df.drop(['tarray', 'xybinarray'],axis=1).values\n",
    "    df0 = (df0-df0.mean())/ df0.std()\n",
    "    \n",
    "    tarray = df['tarray'].values\n",
    "    xybinarray = df['xybinarray'].values\n",
    "    df1 = np.empty((len(df),31,4))\n",
    "    for i in range(0,31):\n",
    "        for j in range(0,4):\n",
    "            df1[:,i,j] = weatherData[tarray-i, xybinarray,j]\n",
    "    # Normalize features\n",
    "    df1 = (df1-df1.mean())/ df1.std()\n",
    "    \n",
    "    return df0, df1\n",
    "\n",
    "xdf = df.drop('fire',axis=1)\n",
    "y = df['fire'].values\n",
    "x0, x1 = moddf(xdf)\n",
    "X0, X0_test, X1, X1_test, y, y_test = train_test_split(\n",
    "    x0, x1, y, test_size=0.1, shuffle=True)\n",
    "X0_train, X0_val, X1_train, X1_val, y_train, y_val = train_test_split(\n",
    "    X0, X1, y, test_size=0.1, shuffle=True)\n",
    "\n",
    "np.save('X0_train', X0_train, allow_pickle=True, fix_imports=False)\n",
    "np.save('X1_train', X1_train, allow_pickle=True, fix_imports=False)\n",
    "np.save('y_train', y_train, allow_pickle=True, fix_imports=False)\n",
    "np.save('X0_val', X0_val, allow_pickle=True, fix_imports=False)\n",
    "np.save('X1_val', X1_val, allow_pickle=True, fix_imports=False)\n",
    "np.save('y_val', y_val, allow_pickle=True, fix_imports=False)\n",
    "np.save('X0_test', X0_test, allow_pickle=True, fix_imports=False)\n",
    "np.save('X1_test', X1_test, allow_pickle=True, fix_imports=False)\n",
    "np.save('y_test', y_test, allow_pickle=True, fix_imports=False)"
   ]
  },
  {
   "cell_type": "markdown",
   "metadata": {},
   "source": [
    "# Load data"
   ]
  },
  {
   "cell_type": "code",
   "execution_count": 2,
   "metadata": {
    "collapsed": true
   },
   "outputs": [],
   "source": [
    "X0_train = np.load('X0_train.npy', mmap_mode='r')\n",
    "X1_train = np.load('X1_train.npy', mmap_mode='r')\n",
    "y_train = np.load('y_train.npy', mmap_mode='r')\n",
    "X0_val = np.load('X0_val.npy')\n",
    "X1_val = np.load('X1_val.npy')\n",
    "y_val = np.load('y_val.npy')\n",
    "X0_test = np.load('X0_test.npy')\n",
    "X1_test = np.load('X1_test.npy')\n",
    "y_test = np.load('y_test.npy')\n",
    "\n",
    "length_train = 2973745\n",
    "indices = np.arange(length_train, dtype=int)\n",
    "\n",
    "def generator(batchSize=512):\n",
    "    while True:\n",
    "        np.random.shuffle(indices)\n",
    "        for i in range(0, len(indices), batchSize):\n",
    "            batch_indices = indices[i:i+batchSize]\n",
    "            batch_indices.sort()\n",
    "\n",
    "            bx0 = X0_train[batch_indices,...]\n",
    "            bx1 = X1_train[batch_indices,...]\n",
    "            by = y_train[batch_indices,...]\n",
    "\n",
    "            yield ([bx0,bx1], by)"
   ]
  },
  {
   "cell_type": "markdown",
   "metadata": {
    "collapsed": true
   },
   "source": [
    "# Train neuronet (GRU)"
   ]
  },
  {
   "cell_type": "code",
   "execution_count": 4,
   "metadata": {
    "collapsed": true
   },
   "outputs": [],
   "source": [
    "def fit(nUnits, batchSize, timelimit, nlayer):\n",
    "    x0 = Input(shape=(3,)) # location and day\n",
    "    x1 = Input(shape=(31,4)) # weather\n",
    "    # first\n",
    "    inistate = Dense(nUnits, activation = 'relu')(x0)\n",
    "    x = GRU(nUnits, return_sequences=True)(x1, initial_state = inistate) \n",
    "    # nlayer middle layers\n",
    "    for _ in range(nlayer): \n",
    "        inistate = Dense(nUnits, activation = 'relu')(inistate)\n",
    "        x = GRU(nUnits, return_sequences=True)(x, initial_state = inistate) \n",
    "    # last\n",
    "    inistate = Dense(nUnits, activation = 'relu')(inistate)\n",
    "    x = GRU(nUnits, return_sequences=False)(x, initial_state = inistate) \n",
    "    x = Dense(1, activation='sigmoid')(x)\n",
    "\n",
    "    model = Model(inputs=[x0,x1], outputs=x)\n",
    "    time_callback = TimeHistory()\n",
    "    timed_stopping = TimedStopping(timelimit)\n",
    "    model.compile(optimizer='adam', metrics=['acc'],\n",
    "                  loss='binary_crossentropy')\n",
    "    history.append(model.fit_generator(generator(batchSize),steps_per_epoch = 2973745//batchSize\n",
    "                                        ,epochs=100, verbose=2, \n",
    "              validation_data=([X0_val,X1_val], y_val),callbacks=[time_callback, timed_stopping]))\n",
    "    xaxis.append(time_callback.times)\n",
    "    modelList.append(model) \n",
    "    \n",
    "def refit(batchsize, timelimit, model, patience):\n",
    "    time_callback = TimeHistory()\n",
    "    timed_stopping = TimedStopping(timelimit)\n",
    "    es = EarlyStopping(monitor='val_loss', min_delta=0., patience=patience)\n",
    "    refit_history.append(modelList[model].fit_generator(generator(batchsize),steps_per_epoch = 2973745//batchsize\n",
    "                                        ,epochs=200, verbose=2, \n",
    "              validation_data=([X0_val,X1_val], y_val),callbacks=[time_callback, timed_stopping, es]))\n",
    "    refit_xaxis.append(time_callback.times)"
   ]
  },
  {
   "cell_type": "code",
   "execution_count": 16,
   "metadata": {
    "collapsed": false
   },
   "outputs": [
    {
     "name": "stdout",
     "output_type": "stream",
     "text": [
      "Epoch 1/100\n",
      "5045s - loss: 0.6269 - acc: 0.6348 - val_loss: 0.6086 - val_acc: 0.6635\n"
     ]
    }
   ],
   "source": [
    "fit(nUnits = 80, batchSize = 1024, timelimit = 300, nlayer = 1)"
   ]
  },
  {
   "cell_type": "markdown",
   "metadata": {},
   "source": [
    "So the accuracy is very low after 5045 s (1.4 hours).\n",
    "\n",
    "With less fires, I had an accuracy of 71% after 4000 s. Correlation in time might be useful and now it's harder to learn them because it's on more years.\n",
    "\n",
    "Hopefully, it'll get better with more epochs.\n",
    "\n",
    "Python is using 2.6 GB right now even with the generator. I should look what makes the memory usage."
   ]
  },
  {
   "cell_type": "code",
   "execution_count": 22,
   "metadata": {
    "collapsed": false
   },
   "outputs": [],
   "source": [
    "# !!! Already done\n",
    "\n",
    "modelList[0].save('my_model5045.h5')\n",
    "# try save weight in case saving model doesn't work\n",
    "modelList[0].save_weights('my_model_weights5045.h5')"
   ]
  },
  {
   "cell_type": "code",
   "execution_count": 5,
   "metadata": {
    "collapsed": false,
    "scrolled": true
   },
   "outputs": [
    {
     "ename": "ValueError",
     "evalue": "Layer gru_13 expects 1 inputs, but it received 2 input tensors. Input received: [<tf.Tensor 'input_10:0' shape=(?, 31, 4) dtype=float32>, <tf.Tensor 'dense_17/Relu:0' shape=(?, 80) dtype=float32>]",
     "output_type": "error",
     "traceback": [
      "\u001b[1;31m---------------------------------------------------------------------------\u001b[0m",
      "\u001b[1;31mValueError\u001b[0m                                Traceback (most recent call last)",
      "\u001b[1;32m<ipython-input-5-616f88763232>\u001b[0m in \u001b[0;36m<module>\u001b[1;34m()\u001b[0m\n\u001b[0;32m      1\u001b[0m \u001b[1;32mfrom\u001b[0m \u001b[0mkeras\u001b[0m\u001b[1;33m.\u001b[0m\u001b[0mmodels\u001b[0m \u001b[1;32mimport\u001b[0m \u001b[0mload_model\u001b[0m\u001b[1;33m\u001b[0m\u001b[0m\n\u001b[1;32m----> 2\u001b[1;33m \u001b[0mmodel\u001b[0m \u001b[1;33m=\u001b[0m \u001b[0mload_model\u001b[0m\u001b[1;33m(\u001b[0m\u001b[1;34m'my_model5045.h5'\u001b[0m\u001b[1;33m)\u001b[0m\u001b[1;33m\u001b[0m\u001b[0m\n\u001b[0m",
      "\u001b[1;32m~\\Anaconda3\\envs\\tensorflowgpu\\lib\\site-packages\\keras\\models.py\u001b[0m in \u001b[0;36mload_model\u001b[1;34m(filepath, custom_objects, compile)\u001b[0m\n\u001b[0;32m    231\u001b[0m             \u001b[1;32mraise\u001b[0m \u001b[0mValueError\u001b[0m\u001b[1;33m(\u001b[0m\u001b[1;34m'No model found in config file.'\u001b[0m\u001b[1;33m)\u001b[0m\u001b[1;33m\u001b[0m\u001b[0m\n\u001b[0;32m    232\u001b[0m         \u001b[0mmodel_config\u001b[0m \u001b[1;33m=\u001b[0m \u001b[0mjson\u001b[0m\u001b[1;33m.\u001b[0m\u001b[0mloads\u001b[0m\u001b[1;33m(\u001b[0m\u001b[0mmodel_config\u001b[0m\u001b[1;33m.\u001b[0m\u001b[0mdecode\u001b[0m\u001b[1;33m(\u001b[0m\u001b[1;34m'utf-8'\u001b[0m\u001b[1;33m)\u001b[0m\u001b[1;33m)\u001b[0m\u001b[1;33m\u001b[0m\u001b[0m\n\u001b[1;32m--> 233\u001b[1;33m         \u001b[0mmodel\u001b[0m \u001b[1;33m=\u001b[0m \u001b[0mmodel_from_config\u001b[0m\u001b[1;33m(\u001b[0m\u001b[0mmodel_config\u001b[0m\u001b[1;33m,\u001b[0m \u001b[0mcustom_objects\u001b[0m\u001b[1;33m=\u001b[0m\u001b[0mcustom_objects\u001b[0m\u001b[1;33m)\u001b[0m\u001b[1;33m\u001b[0m\u001b[0m\n\u001b[0m\u001b[0;32m    234\u001b[0m \u001b[1;33m\u001b[0m\u001b[0m\n\u001b[0;32m    235\u001b[0m         \u001b[1;31m# set weights\u001b[0m\u001b[1;33m\u001b[0m\u001b[1;33m\u001b[0m\u001b[0m\n",
      "\u001b[1;32m~\\Anaconda3\\envs\\tensorflowgpu\\lib\\site-packages\\keras\\models.py\u001b[0m in \u001b[0;36mmodel_from_config\u001b[1;34m(config, custom_objects)\u001b[0m\n\u001b[0;32m    305\u001b[0m                         \u001b[1;34m'Maybe you meant to use '\u001b[0m\u001b[1;33m\u001b[0m\u001b[0m\n\u001b[0;32m    306\u001b[0m                         '`Sequential.from_config(config)`?')\n\u001b[1;32m--> 307\u001b[1;33m     \u001b[1;32mreturn\u001b[0m \u001b[0mlayer_module\u001b[0m\u001b[1;33m.\u001b[0m\u001b[0mdeserialize\u001b[0m\u001b[1;33m(\u001b[0m\u001b[0mconfig\u001b[0m\u001b[1;33m,\u001b[0m \u001b[0mcustom_objects\u001b[0m\u001b[1;33m=\u001b[0m\u001b[0mcustom_objects\u001b[0m\u001b[1;33m)\u001b[0m\u001b[1;33m\u001b[0m\u001b[0m\n\u001b[0m\u001b[0;32m    308\u001b[0m \u001b[1;33m\u001b[0m\u001b[0m\n\u001b[0;32m    309\u001b[0m \u001b[1;33m\u001b[0m\u001b[0m\n",
      "\u001b[1;32m~\\Anaconda3\\envs\\tensorflowgpu\\lib\\site-packages\\keras\\layers\\__init__.py\u001b[0m in \u001b[0;36mdeserialize\u001b[1;34m(config, custom_objects)\u001b[0m\n\u001b[0;32m     52\u001b[0m                                     \u001b[0mmodule_objects\u001b[0m\u001b[1;33m=\u001b[0m\u001b[0mglobs\u001b[0m\u001b[1;33m,\u001b[0m\u001b[1;33m\u001b[0m\u001b[0m\n\u001b[0;32m     53\u001b[0m                                     \u001b[0mcustom_objects\u001b[0m\u001b[1;33m=\u001b[0m\u001b[0mcustom_objects\u001b[0m\u001b[1;33m,\u001b[0m\u001b[1;33m\u001b[0m\u001b[0m\n\u001b[1;32m---> 54\u001b[1;33m                                     printable_module_name='layer')\n\u001b[0m",
      "\u001b[1;32m~\\Anaconda3\\envs\\tensorflowgpu\\lib\\site-packages\\keras\\utils\\generic_utils.py\u001b[0m in \u001b[0;36mdeserialize_keras_object\u001b[1;34m(identifier, module_objects, custom_objects, printable_module_name)\u001b[0m\n\u001b[0;32m    137\u001b[0m                 return cls.from_config(config['config'],\n\u001b[0;32m    138\u001b[0m                                        custom_objects=dict(list(_GLOBAL_CUSTOM_OBJECTS.items()) +\n\u001b[1;32m--> 139\u001b[1;33m                                                            list(custom_objects.items())))\n\u001b[0m\u001b[0;32m    140\u001b[0m             \u001b[1;32mwith\u001b[0m \u001b[0mCustomObjectScope\u001b[0m\u001b[1;33m(\u001b[0m\u001b[0mcustom_objects\u001b[0m\u001b[1;33m)\u001b[0m\u001b[1;33m:\u001b[0m\u001b[1;33m\u001b[0m\u001b[0m\n\u001b[0;32m    141\u001b[0m                 \u001b[1;32mreturn\u001b[0m \u001b[0mcls\u001b[0m\u001b[1;33m.\u001b[0m\u001b[0mfrom_config\u001b[0m\u001b[1;33m(\u001b[0m\u001b[0mconfig\u001b[0m\u001b[1;33m[\u001b[0m\u001b[1;34m'config'\u001b[0m\u001b[1;33m]\u001b[0m\u001b[1;33m)\u001b[0m\u001b[1;33m\u001b[0m\u001b[0m\n",
      "\u001b[1;32m~\\Anaconda3\\envs\\tensorflowgpu\\lib\\site-packages\\keras\\engine\\topology.py\u001b[0m in \u001b[0;36mfrom_config\u001b[1;34m(cls, config, custom_objects)\u001b[0m\n\u001b[0;32m   2448\u001b[0m \u001b[1;33m\u001b[0m\u001b[0m\n\u001b[0;32m   2449\u001b[0m         \u001b[1;32mfor\u001b[0m \u001b[0mlayer_data\u001b[0m \u001b[1;32min\u001b[0m \u001b[0mconfig\u001b[0m\u001b[1;33m[\u001b[0m\u001b[1;34m'layers'\u001b[0m\u001b[1;33m]\u001b[0m\u001b[1;33m:\u001b[0m\u001b[1;33m\u001b[0m\u001b[0m\n\u001b[1;32m-> 2450\u001b[1;33m             \u001b[0mprocess_layer\u001b[0m\u001b[1;33m(\u001b[0m\u001b[0mlayer_data\u001b[0m\u001b[1;33m)\u001b[0m\u001b[1;33m\u001b[0m\u001b[0m\n\u001b[0m\u001b[0;32m   2451\u001b[0m \u001b[1;33m\u001b[0m\u001b[0m\n\u001b[0;32m   2452\u001b[0m         \u001b[0mname\u001b[0m \u001b[1;33m=\u001b[0m \u001b[0mconfig\u001b[0m\u001b[1;33m.\u001b[0m\u001b[0mget\u001b[0m\u001b[1;33m(\u001b[0m\u001b[1;34m'name'\u001b[0m\u001b[1;33m)\u001b[0m\u001b[1;33m\u001b[0m\u001b[0m\n",
      "\u001b[1;32m~\\Anaconda3\\envs\\tensorflowgpu\\lib\\site-packages\\keras\\engine\\topology.py\u001b[0m in \u001b[0;36mprocess_layer\u001b[1;34m(layer_data)\u001b[0m\n\u001b[0;32m   2445\u001b[0m                         \u001b[0mlayer\u001b[0m\u001b[1;33m(\u001b[0m\u001b[0minput_tensors\u001b[0m\u001b[1;33m[\u001b[0m\u001b[1;36m0\u001b[0m\u001b[1;33m]\u001b[0m\u001b[1;33m,\u001b[0m \u001b[1;33m**\u001b[0m\u001b[0mkwargs\u001b[0m\u001b[1;33m)\u001b[0m\u001b[1;33m\u001b[0m\u001b[0m\n\u001b[0;32m   2446\u001b[0m                     \u001b[1;32melse\u001b[0m\u001b[1;33m:\u001b[0m\u001b[1;33m\u001b[0m\u001b[0m\n\u001b[1;32m-> 2447\u001b[1;33m                         \u001b[0mlayer\u001b[0m\u001b[1;33m(\u001b[0m\u001b[0minput_tensors\u001b[0m\u001b[1;33m,\u001b[0m \u001b[1;33m**\u001b[0m\u001b[0mkwargs\u001b[0m\u001b[1;33m)\u001b[0m\u001b[1;33m\u001b[0m\u001b[0m\n\u001b[0m\u001b[0;32m   2448\u001b[0m \u001b[1;33m\u001b[0m\u001b[0m\n\u001b[0;32m   2449\u001b[0m         \u001b[1;32mfor\u001b[0m \u001b[0mlayer_data\u001b[0m \u001b[1;32min\u001b[0m \u001b[0mconfig\u001b[0m\u001b[1;33m[\u001b[0m\u001b[1;34m'layers'\u001b[0m\u001b[1;33m]\u001b[0m\u001b[1;33m:\u001b[0m\u001b[1;33m\u001b[0m\u001b[0m\n",
      "\u001b[1;32m~\\Anaconda3\\envs\\tensorflowgpu\\lib\\site-packages\\keras\\layers\\recurrent.py\u001b[0m in \u001b[0;36m__call__\u001b[1;34m(self, inputs, initial_state, **kwargs)\u001b[0m\n\u001b[0;32m    260\u001b[0m         \u001b[1;31m# modify the input spec to include the state.\u001b[0m\u001b[1;33m\u001b[0m\u001b[1;33m\u001b[0m\u001b[0m\n\u001b[0;32m    261\u001b[0m         \u001b[1;32mif\u001b[0m \u001b[0minitial_state\u001b[0m \u001b[1;32mis\u001b[0m \u001b[1;32mNone\u001b[0m\u001b[1;33m:\u001b[0m\u001b[1;33m\u001b[0m\u001b[0m\n\u001b[1;32m--> 262\u001b[1;33m             \u001b[1;32mreturn\u001b[0m \u001b[0msuper\u001b[0m\u001b[1;33m(\u001b[0m\u001b[0mRecurrent\u001b[0m\u001b[1;33m,\u001b[0m \u001b[0mself\u001b[0m\u001b[1;33m)\u001b[0m\u001b[1;33m.\u001b[0m\u001b[0m__call__\u001b[0m\u001b[1;33m(\u001b[0m\u001b[0minputs\u001b[0m\u001b[1;33m,\u001b[0m \u001b[1;33m**\u001b[0m\u001b[0mkwargs\u001b[0m\u001b[1;33m)\u001b[0m\u001b[1;33m\u001b[0m\u001b[0m\n\u001b[0m\u001b[0;32m    263\u001b[0m \u001b[1;33m\u001b[0m\u001b[0m\n\u001b[0;32m    264\u001b[0m         \u001b[1;32mif\u001b[0m \u001b[1;32mnot\u001b[0m \u001b[0misinstance\u001b[0m\u001b[1;33m(\u001b[0m\u001b[0minitial_state\u001b[0m\u001b[1;33m,\u001b[0m \u001b[1;33m(\u001b[0m\u001b[0mlist\u001b[0m\u001b[1;33m,\u001b[0m \u001b[0mtuple\u001b[0m\u001b[1;33m)\u001b[0m\u001b[1;33m)\u001b[0m\u001b[1;33m:\u001b[0m\u001b[1;33m\u001b[0m\u001b[0m\n",
      "\u001b[1;32m~\\Anaconda3\\envs\\tensorflowgpu\\lib\\site-packages\\keras\\engine\\topology.py\u001b[0m in \u001b[0;36m__call__\u001b[1;34m(self, inputs, **kwargs)\u001b[0m\n\u001b[0;32m    550\u001b[0m                 \u001b[1;31m# Raise exceptions in case the input is not compatible\u001b[0m\u001b[1;33m\u001b[0m\u001b[1;33m\u001b[0m\u001b[0m\n\u001b[0;32m    551\u001b[0m                 \u001b[1;31m# with the input_spec specified in the layer constructor.\u001b[0m\u001b[1;33m\u001b[0m\u001b[1;33m\u001b[0m\u001b[0m\n\u001b[1;32m--> 552\u001b[1;33m                 \u001b[0mself\u001b[0m\u001b[1;33m.\u001b[0m\u001b[0massert_input_compatibility\u001b[0m\u001b[1;33m(\u001b[0m\u001b[0minputs\u001b[0m\u001b[1;33m)\u001b[0m\u001b[1;33m\u001b[0m\u001b[0m\n\u001b[0m\u001b[0;32m    553\u001b[0m \u001b[1;33m\u001b[0m\u001b[0m\n\u001b[0;32m    554\u001b[0m                 \u001b[1;31m# Collect input shapes to build layer.\u001b[0m\u001b[1;33m\u001b[0m\u001b[1;33m\u001b[0m\u001b[0m\n",
      "\u001b[1;32m~\\Anaconda3\\envs\\tensorflowgpu\\lib\\site-packages\\keras\\engine\\topology.py\u001b[0m in \u001b[0;36massert_input_compatibility\u001b[1;34m(self, inputs)\u001b[0m\n\u001b[0;32m    437\u001b[0m                              \u001b[1;34m'but it received '\u001b[0m \u001b[1;33m+\u001b[0m \u001b[0mstr\u001b[0m\u001b[1;33m(\u001b[0m\u001b[0mlen\u001b[0m\u001b[1;33m(\u001b[0m\u001b[0minputs\u001b[0m\u001b[1;33m)\u001b[0m\u001b[1;33m)\u001b[0m \u001b[1;33m+\u001b[0m\u001b[1;33m\u001b[0m\u001b[0m\n\u001b[0;32m    438\u001b[0m                              \u001b[1;34m' input tensors. Input received: '\u001b[0m \u001b[1;33m+\u001b[0m\u001b[1;33m\u001b[0m\u001b[0m\n\u001b[1;32m--> 439\u001b[1;33m                              str(inputs))\n\u001b[0m\u001b[0;32m    440\u001b[0m         \u001b[1;32mfor\u001b[0m \u001b[0minput_index\u001b[0m\u001b[1;33m,\u001b[0m \u001b[1;33m(\u001b[0m\u001b[0mx\u001b[0m\u001b[1;33m,\u001b[0m \u001b[0mspec\u001b[0m\u001b[1;33m)\u001b[0m \u001b[1;32min\u001b[0m \u001b[0menumerate\u001b[0m\u001b[1;33m(\u001b[0m\u001b[0mzip\u001b[0m\u001b[1;33m(\u001b[0m\u001b[0minputs\u001b[0m\u001b[1;33m,\u001b[0m \u001b[0minput_spec\u001b[0m\u001b[1;33m)\u001b[0m\u001b[1;33m)\u001b[0m\u001b[1;33m:\u001b[0m\u001b[1;33m\u001b[0m\u001b[0m\n\u001b[0;32m    441\u001b[0m             \u001b[1;32mif\u001b[0m \u001b[0mspec\u001b[0m \u001b[1;32mis\u001b[0m \u001b[1;32mNone\u001b[0m\u001b[1;33m:\u001b[0m\u001b[1;33m\u001b[0m\u001b[0m\n",
      "\u001b[1;31mValueError\u001b[0m: Layer gru_13 expects 1 inputs, but it received 2 input tensors. Input received: [<tf.Tensor 'input_10:0' shape=(?, 31, 4) dtype=float32>, <tf.Tensor 'dense_17/Relu:0' shape=(?, 80) dtype=float32>]"
     ]
    }
   ],
   "source": [
    "from keras.models import load_model\n",
    "model = load_model('my_model5045.h5')"
   ]
  },
  {
   "cell_type": "code",
   "execution_count": 7,
   "metadata": {
    "collapsed": false
   },
   "outputs": [
    {
     "name": "stdout",
     "output_type": "stream",
     "text": [
      "Epoch 1/100\n",
      "1328s - loss: 0.6020 - acc: 0.6695 - val_loss: 0.5962 - val_acc: 0.6770\n",
      "Epoch 2/100\n",
      "582s - loss: 0.5928 - acc: 0.6782 - val_loss: 0.5904 - val_acc: 0.6811\n",
      "Epoch 3/100\n",
      "583s - loss: 0.5891 - acc: 0.6809 - val_loss: 0.5891 - val_acc: 0.6817\n",
      "Epoch 4/100\n",
      "582s - loss: 0.5866 - acc: 0.6830 - val_loss: 0.5867 - val_acc: 0.6826\n",
      "Epoch 5/100\n",
      "581s - loss: 0.5846 - acc: 0.6844 - val_loss: 0.5878 - val_acc: 0.6816\n",
      "Epoch 6/100\n",
      "581s - loss: 0.5830 - acc: 0.6855 - val_loss: 0.5834 - val_acc: 0.6855\n",
      "Epoch 7/100\n",
      "584s - loss: 0.5814 - acc: 0.6869 - val_loss: 0.5821 - val_acc: 0.6861\n",
      "Epoch 8/100\n",
      "582s - loss: 0.5798 - acc: 0.6879 - val_loss: 0.5832 - val_acc: 0.6860\n",
      "Epoch 9/100\n",
      "581s - loss: 0.5786 - acc: 0.6887 - val_loss: 0.5837 - val_acc: 0.6845\n",
      "Epoch 10/100\n",
      "583s - loss: 0.5773 - acc: 0.6898 - val_loss: 0.5801 - val_acc: 0.6871\n",
      "Epoch 11/100\n",
      "583s - loss: 0.5762 - acc: 0.6905 - val_loss: 0.5795 - val_acc: 0.6886\n",
      "Epoch 12/100\n",
      "585s - loss: 0.5749 - acc: 0.6916 - val_loss: 0.5782 - val_acc: 0.6892\n",
      "Epoch 13/100\n",
      "581s - loss: 0.5739 - acc: 0.6921 - val_loss: 0.5784 - val_acc: 0.6892\n",
      "Epoch 14/100\n",
      "582s - loss: 0.5730 - acc: 0.6928 - val_loss: 0.5813 - val_acc: 0.6872\n",
      "Epoch 15/100\n",
      "581s - loss: 0.5721 - acc: 0.6935 - val_loss: 0.5784 - val_acc: 0.6897\n",
      "Epoch 16/100\n",
      "584s - loss: 0.5710 - acc: 0.6942 - val_loss: 0.5780 - val_acc: 0.6895\n",
      "Epoch 17/100\n",
      "583s - loss: 0.5703 - acc: 0.6947 - val_loss: 0.5762 - val_acc: 0.6908\n",
      "Epoch 18/100\n",
      "580s - loss: 0.5696 - acc: 0.6952 - val_loss: 0.5761 - val_acc: 0.6908\n",
      "Epoch 19/100\n",
      "580s - loss: 0.5686 - acc: 0.6960 - val_loss: 0.5753 - val_acc: 0.6914\n",
      "Epoch 20/100\n",
      "582s - loss: 0.5679 - acc: 0.6966 - val_loss: 0.5768 - val_acc: 0.6898\n",
      "Epoch 21/100\n",
      "583s - loss: 0.5672 - acc: 0.6968 - val_loss: 0.5756 - val_acc: 0.6915\n",
      "Epoch 22/100\n",
      "583s - loss: 0.5665 - acc: 0.6974 - val_loss: 0.5755 - val_acc: 0.6921\n",
      "Epoch 23/100\n",
      "577s - loss: 0.5660 - acc: 0.6978 - val_loss: 0.5769 - val_acc: 0.6911\n",
      "Epoch 24/100\n",
      "575s - loss: 0.5653 - acc: 0.6984 - val_loss: 0.5768 - val_acc: 0.6907\n"
     ]
    }
   ],
   "source": [
    "# In case it doesn't work\n",
    "def fit_loadweight(nUnits, batchSize, timelimit, nlayer):\n",
    "    x0 = Input(shape=(3,)) # location\n",
    "    x1 = Input(shape=(31,4)) # weather\n",
    "    # first\n",
    "    inistate = Dense(nUnits, activation = 'relu')(x0)\n",
    "    x = GRU(nUnits, return_sequences=True)(x1, initial_state = inistate) \n",
    "    # nlayer middle layers\n",
    "    for _ in range(nlayer): \n",
    "        inistate = Dense(nUnits, activation = 'relu')(inistate)\n",
    "        x = GRU(nUnits, return_sequences=True)(x, initial_state = inistate) \n",
    "    # last\n",
    "    inistate = Dense(nUnits, activation = 'relu')(inistate)\n",
    "    x = GRU(nUnits, return_sequences=False)(x, initial_state = inistate) \n",
    "    x = Dense(1, activation='sigmoid')(x)\n",
    "\n",
    "    model = Model(inputs=[x0,x1], outputs=x)\n",
    "    model.load_weights('my_model_weights5045.h5')\n",
    "    time_callback = TimeHistory()\n",
    "    timed_stopping = TimedStopping(timelimit)\n",
    "    model.compile(optimizer='adam', metrics=['acc'],\n",
    "                  loss='binary_crossentropy')\n",
    "    history.append(model.fit_generator(generator(batchSize),steps_per_epoch = 2973745//batchSize\n",
    "                                        ,epochs=100, verbose=2, \n",
    "              validation_data=([X0_val,X1_val], y_val),callbacks=[time_callback, timed_stopping]))\n",
    "    xaxis.append(time_callback.times)\n",
    "    modelList.append(model)\n",
    "    \n",
    "fit_loadweight(nUnits = 80, batchSize = 1024, timelimit = 4*3600, nlayer = 1)"
   ]
  },
  {
   "cell_type": "markdown",
   "metadata": {
    "collapsed": true
   },
   "source": [
    "The 5045s for the 1st epoch was probably inacurate. Most likely my computer went to sleep during the calculation.\n",
    "\n",
    "However, the accuracy is very low."
   ]
  },
  {
   "cell_type": "code",
   "execution_count": 11,
   "metadata": {
    "collapsed": false
   },
   "outputs": [
    {
     "data": {
      "text/plain": [
       "<matplotlib.legend.Legend at 0x28c40a04710>"
      ]
     },
     "execution_count": 11,
     "metadata": {},
     "output_type": "execute_result"
    },
    {
     "data": {
      "image/png": "[encoded data removed]",
      "text/plain": [
       "<matplotlib.figure.Figure at 0x28c40a043c8>"
      ]
     },
     "metadata": {},
     "output_type": "display_data"
    }
   ],
   "source": [
    "Plot(0, 'acc', '80, 1')\n",
    "plt.legend()\n",
    "\n",
    "# It is still going up so we could improve it by training longer."
   ]
  },
  {
   "cell_type": "code",
   "execution_count": 13,
   "metadata": {
    "collapsed": false
   },
   "outputs": [],
   "source": [
    "modelList[0].save_weights('my_model_weights14k.h5')"
   ]
  },
  {
   "cell_type": "code",
   "execution_count": null,
   "metadata": {
    "collapsed": false
   },
   "outputs": [],
   "source": []
  },
  {
   "cell_type": "markdown",
   "metadata": {
    "collapsed": true
   },
   "source": [
    "# Use fully connected neuronet"
   ]
  },
  {
   "cell_type": "code",
   "execution_count": 3,
   "metadata": {
    "collapsed": true
   },
   "outputs": [],
   "source": [
    "from keras.layers import Multiply, Concatenate, Reshape, Flatten\n",
    "\n",
    "def fit(nUnitsPos,nlayerPos, nUnits, nlayer, batchSize, timelimit):\n",
    "    x0 = Input(shape=(3,)) # location and day\n",
    "    x1 = Input(shape=(31,4)) # weather\n",
    "    \n",
    "    y0 = Dense(nUnitsPos, activation = 'relu')(x0) # 1st layer position\n",
    "    for _ in range(nlayerPos): # learn a better position representation\n",
    "        y0 = Dense(nUnitsPos, activation = 'relu')(y0)\n",
    "    \n",
    "    a = Dense(31*4, activation = 'relu')(y0) # attention on weather\n",
    "    a = Reshape((31,4))(a)\n",
    "    y1 = Multiply()([x1,a])\n",
    "    y1 = Flatten()(y1)\n",
    "    y = Concatenate()([y0,y1]) # combine position and weather information\n",
    "    \n",
    "    for _ in range(nlayer):\n",
    "        y = Dense(nUnits, activation = 'relu')(y)\n",
    "    \n",
    "    y = Dense(1, activation='sigmoid')(y)\n",
    "\n",
    "    model = Model(inputs=[x0,x1], outputs=y)\n",
    "    time_callback = TimeHistory()\n",
    "    timed_stopping = TimedStopping(timelimit)\n",
    "    model.compile(optimizer='adam', metrics=['acc'],\n",
    "                  loss='binary_crossentropy')\n",
    "    history.append(model.fit_generator(generator(batchSize),steps_per_epoch = 2973745//batchSize\n",
    "                                        ,epochs=100, verbose=2, \n",
    "              validation_data=([X0_val,X1_val], y_val),callbacks=[time_callback, timed_stopping]))\n",
    "    xaxis.append(time_callback.times)\n",
    "    modelList.append(model) \n",
    "    \n",
    "def refit(batchsize, timelimit, model):\n",
    "    time_callback = TimeHistory()\n",
    "    timed_stopping = TimedStopping(timelimit)\n",
    "    es = EarlyStopping(monitor='val_loss', min_delta=0., patience=10)\n",
    "    refit_history.append(model.fit_generator(generator(batchSize),steps_per_epoch = 2973745//batchSize\n",
    "                                        ,epochs=200, batch_size=batchsize,verbose=2, shuffle=True, \n",
    "              validation_data=([X0_val,X1_val], y_val),callbacks=[time_callback, timed_stopping, es]))\n",
    "    refit_xaxis.append(time_callback.times)"
   ]
  },
  {
   "cell_type": "code",
   "execution_count": 4,
   "metadata": {
    "collapsed": false,
    "scrolled": false
   },
   "outputs": [
    {
     "name": "stdout",
     "output_type": "stream",
     "text": [
      "Epoch 1/100\n",
      "3656s - loss: 0.6253 - acc: 0.6439 - val_loss: 0.6134 - val_acc: 0.6592\n"
     ]
    }
   ],
   "source": [
    "fit(nUnitsPos = 10,nlayerPos = 0, nUnits = 40, nlayer = 1, batchSize = 256, timelimit = 300)"
   ]
  },
  {
   "cell_type": "code",
   "execution_count": 6,
   "metadata": {
    "collapsed": false
   },
   "outputs": [
    {
     "name": "stdout",
     "output_type": "stream",
     "text": [
      "Epoch 1/100\n",
      "91s - loss: 0.6498 - acc: 0.6074 - val_loss: 0.6324 - val_acc: 0.6377\n",
      "Epoch 2/100\n",
      "7s - loss: 0.6268 - acc: 0.6431 - val_loss: 0.6243 - val_acc: 0.6486\n",
      "Epoch 3/100\n",
      "8s - loss: 0.6216 - acc: 0.6496 - val_loss: 0.6213 - val_acc: 0.6512\n",
      "Epoch 4/100\n",
      "8s - loss: 0.6185 - acc: 0.6527 - val_loss: 0.6176 - val_acc: 0.6544\n",
      "Epoch 5/100\n",
      "8s - loss: 0.6157 - acc: 0.6555 - val_loss: 0.6153 - val_acc: 0.6566\n",
      "Epoch 6/100\n",
      "8s - loss: 0.6134 - acc: 0.6581 - val_loss: 0.6132 - val_acc: 0.6596\n",
      "Epoch 7/100\n",
      "8s - loss: 0.6113 - acc: 0.6602 - val_loss: 0.6113 - val_acc: 0.6624\n",
      "Epoch 8/100\n",
      "8s - loss: 0.6095 - acc: 0.6624 - val_loss: 0.6096 - val_acc: 0.6629\n",
      "Epoch 9/100\n",
      "7s - loss: 0.6079 - acc: 0.6644 - val_loss: 0.6081 - val_acc: 0.6648\n",
      "Epoch 10/100\n",
      "7s - loss: 0.6065 - acc: 0.6662 - val_loss: 0.6067 - val_acc: 0.6666\n",
      "Epoch 11/100\n",
      "8s - loss: 0.6050 - acc: 0.6681 - val_loss: 0.6055 - val_acc: 0.6679\n",
      "Epoch 12/100\n",
      "7s - loss: 0.6038 - acc: 0.6694 - val_loss: 0.6043 - val_acc: 0.6694\n",
      "Epoch 13/100\n",
      "8s - loss: 0.6026 - acc: 0.6706 - val_loss: 0.6038 - val_acc: 0.6699\n",
      "Epoch 14/100\n",
      "8s - loss: 0.6016 - acc: 0.6718 - val_loss: 0.6019 - val_acc: 0.6710\n",
      "Epoch 15/100\n",
      "8s - loss: 0.6005 - acc: 0.6727 - val_loss: 0.6020 - val_acc: 0.6719\n",
      "Epoch 16/100\n",
      "8s - loss: 0.6001 - acc: 0.6732 - val_loss: 0.6011 - val_acc: 0.6716\n",
      "Epoch 17/100\n",
      "8s - loss: 0.5992 - acc: 0.6740 - val_loss: 0.6002 - val_acc: 0.6734\n",
      "Epoch 18/100\n",
      "8s - loss: 0.5987 - acc: 0.6745 - val_loss: 0.6008 - val_acc: 0.6725\n",
      "Epoch 19/100\n",
      "8s - loss: 0.5982 - acc: 0.6751 - val_loss: 0.5996 - val_acc: 0.6732\n",
      "Epoch 20/100\n",
      "8s - loss: 0.5979 - acc: 0.6752 - val_loss: 0.6000 - val_acc: 0.6725\n",
      "Epoch 21/100\n",
      "8s - loss: 0.5974 - acc: 0.6756 - val_loss: 0.5984 - val_acc: 0.6744\n",
      "Epoch 22/100\n",
      "8s - loss: 0.5972 - acc: 0.6757 - val_loss: 0.5989 - val_acc: 0.6745\n",
      "Epoch 23/100\n",
      "8s - loss: 0.5967 - acc: 0.6761 - val_loss: 0.6002 - val_acc: 0.6723\n",
      "Epoch 24/100\n",
      "8s - loss: 0.5964 - acc: 0.6763 - val_loss: 0.5986 - val_acc: 0.6751\n",
      "Epoch 25/100\n",
      "8s - loss: 0.5961 - acc: 0.6765 - val_loss: 0.5976 - val_acc: 0.6747\n",
      "Epoch 26/100\n",
      "8s - loss: 0.5958 - acc: 0.6768 - val_loss: 0.5981 - val_acc: 0.6744\n",
      "Epoch 27/100\n",
      "8s - loss: 0.5956 - acc: 0.6768 - val_loss: 0.5970 - val_acc: 0.6763\n",
      "Epoch 28/100\n",
      "8s - loss: 0.5953 - acc: 0.6768 - val_loss: 0.5969 - val_acc: 0.6753\n",
      "Epoch 29/100\n",
      "8s - loss: 0.5952 - acc: 0.6770 - val_loss: 0.5972 - val_acc: 0.6749\n",
      "Epoch 30/100\n",
      "8s - loss: 0.5948 - acc: 0.6775 - val_loss: 0.5977 - val_acc: 0.6739\n",
      "Epoch 31/100\n",
      "7s - loss: 0.5948 - acc: 0.6773 - val_loss: 0.5967 - val_acc: 0.6747\n",
      "Epoch 32/100\n",
      "8s - loss: 0.5946 - acc: 0.6773 - val_loss: 0.5970 - val_acc: 0.6752\n",
      "Epoch 33/100\n",
      "8s - loss: 0.5944 - acc: 0.6776 - val_loss: 0.5961 - val_acc: 0.6758\n",
      "Epoch 34/100\n",
      "8s - loss: 0.5941 - acc: 0.6777 - val_loss: 0.5973 - val_acc: 0.6752\n",
      "Epoch 35/100\n",
      "8s - loss: 0.5942 - acc: 0.6778 - val_loss: 0.5963 - val_acc: 0.6757\n",
      "Epoch 36/100\n",
      "8s - loss: 0.5937 - acc: 0.6783 - val_loss: 0.5955 - val_acc: 0.6770\n",
      "Epoch 37/100\n",
      "8s - loss: 0.5939 - acc: 0.6780 - val_loss: 0.5949 - val_acc: 0.6770\n",
      "Epoch 38/100\n",
      "8s - loss: 0.5935 - acc: 0.6783 - val_loss: 0.5950 - val_acc: 0.6765\n",
      "Epoch 39/100\n",
      "8s - loss: 0.5933 - acc: 0.6786 - val_loss: 0.5952 - val_acc: 0.6764\n",
      "Epoch 40/100\n",
      "8s - loss: 0.5933 - acc: 0.6785 - val_loss: 0.5951 - val_acc: 0.6774\n",
      "Epoch 41/100\n",
      "8s - loss: 0.5931 - acc: 0.6786 - val_loss: 0.5948 - val_acc: 0.6767\n",
      "Epoch 42/100\n",
      "7s - loss: 0.5929 - acc: 0.6788 - val_loss: 0.5962 - val_acc: 0.6758\n",
      "Epoch 43/100\n",
      "8s - loss: 0.5928 - acc: 0.6789 - val_loss: 0.5942 - val_acc: 0.6775\n",
      "Epoch 44/100\n",
      "8s - loss: 0.5925 - acc: 0.6791 - val_loss: 0.5946 - val_acc: 0.6772\n",
      "Epoch 45/100\n",
      "8s - loss: 0.5927 - acc: 0.6790 - val_loss: 0.5941 - val_acc: 0.6774\n",
      "Epoch 46/100\n",
      "8s - loss: 0.5924 - acc: 0.6792 - val_loss: 0.5948 - val_acc: 0.6767\n",
      "Epoch 47/100\n",
      "8s - loss: 0.5923 - acc: 0.6794 - val_loss: 0.5947 - val_acc: 0.6764\n",
      "Epoch 48/100\n",
      "8s - loss: 0.5921 - acc: 0.6794 - val_loss: 0.5940 - val_acc: 0.6780\n",
      "Epoch 49/100\n",
      "8s - loss: 0.5920 - acc: 0.6795 - val_loss: 0.5935 - val_acc: 0.6782\n",
      "Epoch 50/100\n",
      "8s - loss: 0.5920 - acc: 0.6795 - val_loss: 0.5936 - val_acc: 0.6781\n",
      "Epoch 51/100\n",
      "8s - loss: 0.5919 - acc: 0.6795 - val_loss: 0.5937 - val_acc: 0.6778\n",
      "Epoch 52/100\n",
      "8s - loss: 0.5918 - acc: 0.6798 - val_loss: 0.5933 - val_acc: 0.6778\n",
      "Epoch 53/100\n",
      "8s - loss: 0.5918 - acc: 0.6797 - val_loss: 0.5936 - val_acc: 0.6776\n",
      "Epoch 54/100\n",
      "8s - loss: 0.5915 - acc: 0.6799 - val_loss: 0.5954 - val_acc: 0.6758\n",
      "Epoch 55/100\n",
      "8s - loss: 0.5915 - acc: 0.6798 - val_loss: 0.5936 - val_acc: 0.6782\n",
      "Epoch 56/100\n",
      "8s - loss: 0.5915 - acc: 0.6799 - val_loss: 0.5940 - val_acc: 0.6775\n",
      "Epoch 57/100\n",
      "8s - loss: 0.5913 - acc: 0.6801 - val_loss: 0.5935 - val_acc: 0.6778\n",
      "Epoch 58/100\n",
      "8s - loss: 0.5913 - acc: 0.6800 - val_loss: 0.5935 - val_acc: 0.6778\n",
      "Epoch 59/100\n",
      "8s - loss: 0.5912 - acc: 0.6801 - val_loss: 0.5934 - val_acc: 0.6790\n",
      "Epoch 60/100\n",
      "7s - loss: 0.5912 - acc: 0.6799 - val_loss: 0.5941 - val_acc: 0.6768\n",
      "Epoch 61/100\n",
      "8s - loss: 0.5911 - acc: 0.6802 - val_loss: 0.5939 - val_acc: 0.6783\n",
      "Epoch 62/100\n",
      "8s - loss: 0.5910 - acc: 0.6801 - val_loss: 0.5962 - val_acc: 0.6743\n",
      "Epoch 63/100\n",
      "8s - loss: 0.5909 - acc: 0.6804 - val_loss: 0.5937 - val_acc: 0.6784\n",
      "Epoch 64/100\n",
      "8s - loss: 0.5907 - acc: 0.6806 - val_loss: 0.5929 - val_acc: 0.6783\n",
      "Epoch 65/100\n",
      "8s - loss: 0.5909 - acc: 0.6803 - val_loss: 0.5925 - val_acc: 0.6795\n",
      "Epoch 66/100\n",
      "8s - loss: 0.5906 - acc: 0.6806 - val_loss: 0.5922 - val_acc: 0.6795\n",
      "Epoch 67/100\n",
      "8s - loss: 0.5908 - acc: 0.6804 - val_loss: 0.5935 - val_acc: 0.6789\n",
      "Epoch 68/100\n",
      "8s - loss: 0.5905 - acc: 0.6806 - val_loss: 0.5922 - val_acc: 0.6787\n",
      "Epoch 69/100\n",
      "8s - loss: 0.5905 - acc: 0.6805 - val_loss: 0.5923 - val_acc: 0.6791\n",
      "Epoch 70/100\n",
      "8s - loss: 0.5905 - acc: 0.6806 - val_loss: 0.5922 - val_acc: 0.6798\n",
      "Epoch 71/100\n",
      "7s - loss: 0.5902 - acc: 0.6809 - val_loss: 0.5921 - val_acc: 0.6793\n",
      "Epoch 72/100\n",
      "7s - loss: 0.5906 - acc: 0.6805 - val_loss: 0.5922 - val_acc: 0.6791\n",
      "Epoch 73/100\n",
      "8s - loss: 0.5903 - acc: 0.6807 - val_loss: 0.5920 - val_acc: 0.6798\n",
      "Epoch 74/100\n",
      "8s - loss: 0.5903 - acc: 0.6807 - val_loss: 0.5930 - val_acc: 0.6786\n",
      "Epoch 75/100\n",
      "8s - loss: 0.5900 - acc: 0.6810 - val_loss: 0.5919 - val_acc: 0.6788\n",
      "Epoch 76/100\n",
      "8s - loss: 0.5901 - acc: 0.6809 - val_loss: 0.5924 - val_acc: 0.6787\n",
      "Epoch 77/100\n",
      "8s - loss: 0.5900 - acc: 0.6809 - val_loss: 0.5922 - val_acc: 0.6786\n",
      "Epoch 78/100\n",
      "8s - loss: 0.5902 - acc: 0.6809 - val_loss: 0.5925 - val_acc: 0.6793\n",
      "Epoch 79/100\n",
      "8s - loss: 0.5899 - acc: 0.6809 - val_loss: 0.5918 - val_acc: 0.6796\n",
      "Epoch 80/100\n",
      "8s - loss: 0.5899 - acc: 0.6809 - val_loss: 0.5925 - val_acc: 0.6778\n",
      "Epoch 81/100\n",
      "8s - loss: 0.5900 - acc: 0.6811 - val_loss: 0.5922 - val_acc: 0.6788\n",
      "Epoch 82/100\n",
      "8s - loss: 0.5897 - acc: 0.6812 - val_loss: 0.5932 - val_acc: 0.6772\n",
      "Epoch 83/100\n",
      "8s - loss: 0.5897 - acc: 0.6812 - val_loss: 0.5917 - val_acc: 0.6794\n",
      "Epoch 84/100\n",
      "8s - loss: 0.5896 - acc: 0.6815 - val_loss: 0.5916 - val_acc: 0.6795\n",
      "Epoch 85/100\n",
      "7s - loss: 0.5898 - acc: 0.6811 - val_loss: 0.5929 - val_acc: 0.6789\n",
      "Epoch 86/100\n",
      "8s - loss: 0.5896 - acc: 0.6813 - val_loss: 0.5914 - val_acc: 0.6798\n",
      "Epoch 87/100\n",
      "8s - loss: 0.5897 - acc: 0.6812 - val_loss: 0.5918 - val_acc: 0.6790\n",
      "Epoch 88/100\n",
      "8s - loss: 0.5897 - acc: 0.6811 - val_loss: 0.5913 - val_acc: 0.6799\n",
      "Epoch 89/100\n",
      "8s - loss: 0.5891 - acc: 0.6817 - val_loss: 0.5915 - val_acc: 0.6798\n",
      "Epoch 90/100\n",
      "8s - loss: 0.5899 - acc: 0.6807 - val_loss: 0.5913 - val_acc: 0.6799\n",
      "Epoch 91/100\n",
      "8s - loss: 0.5892 - acc: 0.6815 - val_loss: 0.5916 - val_acc: 0.6798\n",
      "Epoch 92/100\n",
      "8s - loss: 0.5895 - acc: 0.6815 - val_loss: 0.5915 - val_acc: 0.6795\n",
      "Epoch 93/100\n",
      "8s - loss: 0.5896 - acc: 0.6812 - val_loss: 0.5916 - val_acc: 0.6793\n",
      "Epoch 94/100\n",
      "8s - loss: 0.5893 - acc: 0.6814 - val_loss: 0.5916 - val_acc: 0.6796\n",
      "Epoch 95/100\n",
      "8s - loss: 0.5893 - acc: 0.6814 - val_loss: 0.5924 - val_acc: 0.6778\n",
      "Epoch 96/100\n",
      "8s - loss: 0.5891 - acc: 0.6816 - val_loss: 0.5914 - val_acc: 0.6798\n",
      "Epoch 97/100\n",
      "8s - loss: 0.5893 - acc: 0.6817 - val_loss: 0.5917 - val_acc: 0.6801\n",
      "Epoch 98/100\n",
      "8s - loss: 0.5889 - acc: 0.6817 - val_loss: 0.5912 - val_acc: 0.6798\n",
      "Epoch 99/100\n",
      "8s - loss: 0.5893 - acc: 0.6813 - val_loss: 0.5913 - val_acc: 0.6805\n",
      "Epoch 100/100\n",
      "8s - loss: 0.5889 - acc: 0.6818 - val_loss: 0.5918 - val_acc: 0.6794\n"
     ]
    }
   ],
   "source": [
    "# Strongly increase batchsize, use around 37% of GPU and CPU, but during the 1st epoch in which it's around 1%.\n",
    "\n",
    "fit(nUnitsPos = 10,nlayerPos = 0, nUnits = 80, nlayer = 1, batchSize = 5000, timelimit = 3600)"
   ]
  },
  {
   "cell_type": "code",
   "execution_count": 7,
   "metadata": {
    "collapsed": false
   },
   "outputs": [
    {
     "data": {
      "image/png": "[encoded data removed]",
      "text/plain": [
       "<matplotlib.figure.Figure at 0x247cd39bd30>"
      ]
     },
     "metadata": {},
     "output_type": "display_data"
    }
   ],
   "source": [
    "Plot(1, 'acc')\n",
    "\n",
    "# I got 0.68 which is less than what I got from GRU 0.71 or XGBoost 0.72\n",
    "# However, I might do better by using a more complex model."
   ]
  },
  {
   "cell_type": "code",
   "execution_count": 8,
   "metadata": {
    "collapsed": false
   },
   "outputs": [
    {
     "name": "stdout",
     "output_type": "stream",
     "text": [
      "Epoch 1/100\n",
      "12s - loss: 0.6329 - acc: 0.6320 - val_loss: 0.6180 - val_acc: 0.6558\n",
      "Epoch 2/100\n",
      "11s - loss: 0.6104 - acc: 0.6631 - val_loss: 0.6058 - val_acc: 0.6678\n",
      "Epoch 3/100\n",
      "11s - loss: 0.6032 - acc: 0.6698 - val_loss: 0.6011 - val_acc: 0.6713\n",
      "Epoch 4/100\n",
      "11s - loss: 0.5998 - acc: 0.6727 - val_loss: 0.5985 - val_acc: 0.6741\n",
      "Epoch 5/100\n",
      "11s - loss: 0.5978 - acc: 0.6743 - val_loss: 0.5997 - val_acc: 0.6724\n",
      "Epoch 6/100\n",
      "11s - loss: 0.5959 - acc: 0.6757 - val_loss: 0.5979 - val_acc: 0.6733\n",
      "Epoch 7/100\n",
      "11s - loss: 0.5951 - acc: 0.6762 - val_loss: 0.5963 - val_acc: 0.6750\n",
      "Epoch 8/100\n",
      "11s - loss: 0.5939 - acc: 0.6773 - val_loss: 0.5957 - val_acc: 0.6744\n",
      "Epoch 9/100\n",
      "11s - loss: 0.5928 - acc: 0.6782 - val_loss: 0.5940 - val_acc: 0.6764\n",
      "Epoch 10/100\n",
      "11s - loss: 0.5924 - acc: 0.6785 - val_loss: 0.5929 - val_acc: 0.6778\n",
      "Epoch 11/100\n",
      "11s - loss: 0.5912 - acc: 0.6792 - val_loss: 0.5944 - val_acc: 0.6768\n",
      "Epoch 12/100\n",
      "11s - loss: 0.5908 - acc: 0.6798 - val_loss: 0.5925 - val_acc: 0.6772\n",
      "Epoch 13/100\n",
      "11s - loss: 0.5900 - acc: 0.6803 - val_loss: 0.5924 - val_acc: 0.6782\n",
      "Epoch 14/100\n",
      "11s - loss: 0.5892 - acc: 0.6812 - val_loss: 0.5921 - val_acc: 0.6778\n",
      "Epoch 15/100\n",
      "11s - loss: 0.5885 - acc: 0.6816 - val_loss: 0.5908 - val_acc: 0.6789\n",
      "Epoch 16/100\n",
      "11s - loss: 0.5880 - acc: 0.6820 - val_loss: 0.5913 - val_acc: 0.6786\n",
      "Epoch 17/100\n",
      "11s - loss: 0.5874 - acc: 0.6823 - val_loss: 0.5896 - val_acc: 0.6800\n",
      "Epoch 18/100\n",
      "11s - loss: 0.5868 - acc: 0.6829 - val_loss: 0.5900 - val_acc: 0.6794\n",
      "Epoch 19/100\n",
      "11s - loss: 0.5863 - acc: 0.6833 - val_loss: 0.5901 - val_acc: 0.6797\n",
      "Epoch 20/100\n",
      "11s - loss: 0.5860 - acc: 0.6833 - val_loss: 0.5900 - val_acc: 0.6801\n",
      "Epoch 21/100\n",
      "11s - loss: 0.5851 - acc: 0.6841 - val_loss: 0.5882 - val_acc: 0.6816\n",
      "Epoch 22/100\n",
      "11s - loss: 0.5849 - acc: 0.6842 - val_loss: 0.5883 - val_acc: 0.6811\n",
      "Epoch 23/100\n",
      "11s - loss: 0.5843 - acc: 0.6848 - val_loss: 0.5887 - val_acc: 0.6807\n",
      "Epoch 24/100\n",
      "11s - loss: 0.5841 - acc: 0.6850 - val_loss: 0.5874 - val_acc: 0.6819\n",
      "Epoch 25/100\n",
      "11s - loss: 0.5834 - acc: 0.6855 - val_loss: 0.5897 - val_acc: 0.6802\n",
      "Epoch 26/100\n",
      "11s - loss: 0.5830 - acc: 0.6857 - val_loss: 0.5882 - val_acc: 0.6818\n",
      "Epoch 27/100\n",
      "11s - loss: 0.5825 - acc: 0.6862 - val_loss: 0.5889 - val_acc: 0.6811\n",
      "Epoch 28/100\n",
      "11s - loss: 0.5820 - acc: 0.6864 - val_loss: 0.5885 - val_acc: 0.6810\n",
      "Epoch 29/100\n",
      "11s - loss: 0.5818 - acc: 0.6867 - val_loss: 0.5897 - val_acc: 0.6806\n",
      "Epoch 30/100\n",
      "11s - loss: 0.5813 - acc: 0.6871 - val_loss: 0.5886 - val_acc: 0.6801\n",
      "Epoch 31/100\n",
      "11s - loss: 0.5809 - acc: 0.6873 - val_loss: 0.5867 - val_acc: 0.6824\n",
      "Epoch 32/100\n",
      "11s - loss: 0.5806 - acc: 0.6874 - val_loss: 0.5878 - val_acc: 0.6816\n",
      "Epoch 33/100\n",
      "11s - loss: 0.5802 - acc: 0.6877 - val_loss: 0.5861 - val_acc: 0.6836\n",
      "Epoch 34/100\n",
      "11s - loss: 0.5797 - acc: 0.6882 - val_loss: 0.5861 - val_acc: 0.6836\n",
      "Epoch 35/100\n",
      "11s - loss: 0.5796 - acc: 0.6881 - val_loss: 0.5861 - val_acc: 0.6824\n",
      "Epoch 36/100\n",
      "11s - loss: 0.5793 - acc: 0.6884 - val_loss: 0.5882 - val_acc: 0.6821\n",
      "Epoch 37/100\n",
      "11s - loss: 0.5788 - acc: 0.6889 - val_loss: 0.5867 - val_acc: 0.6822\n",
      "Epoch 38/100\n",
      "11s - loss: 0.5785 - acc: 0.6889 - val_loss: 0.5867 - val_acc: 0.6832\n",
      "Epoch 39/100\n",
      "11s - loss: 0.5780 - acc: 0.6893 - val_loss: 0.5859 - val_acc: 0.6834\n",
      "Epoch 40/100\n",
      "11s - loss: 0.5777 - acc: 0.6895 - val_loss: 0.5875 - val_acc: 0.6822\n",
      "Epoch 41/100\n",
      "11s - loss: 0.5775 - acc: 0.6895 - val_loss: 0.5867 - val_acc: 0.6832\n",
      "Epoch 42/100\n",
      "11s - loss: 0.5771 - acc: 0.6900 - val_loss: 0.5853 - val_acc: 0.6845\n",
      "Epoch 43/100\n",
      "11s - loss: 0.5769 - acc: 0.6901 - val_loss: 0.5857 - val_acc: 0.6837\n",
      "Epoch 44/100\n",
      "11s - loss: 0.5767 - acc: 0.6903 - val_loss: 0.5861 - val_acc: 0.6834\n",
      "Epoch 45/100\n",
      "11s - loss: 0.5762 - acc: 0.6906 - val_loss: 0.5849 - val_acc: 0.6845\n",
      "Epoch 46/100\n",
      "11s - loss: 0.5759 - acc: 0.6908 - val_loss: 0.5866 - val_acc: 0.6831\n",
      "Epoch 47/100\n",
      "11s - loss: 0.5756 - acc: 0.6910 - val_loss: 0.5854 - val_acc: 0.6840\n",
      "Epoch 48/100\n",
      "11s - loss: 0.5753 - acc: 0.6912 - val_loss: 0.5851 - val_acc: 0.6847\n",
      "Epoch 49/100\n",
      "11s - loss: 0.5749 - acc: 0.6916 - val_loss: 0.5849 - val_acc: 0.6846\n",
      "Epoch 50/100\n",
      "11s - loss: 0.5747 - acc: 0.6916 - val_loss: 0.5857 - val_acc: 0.6843\n",
      "Epoch 51/100\n",
      "11s - loss: 0.5748 - acc: 0.6916 - val_loss: 0.5857 - val_acc: 0.6842\n",
      "Epoch 52/100\n",
      "11s - loss: 0.5743 - acc: 0.6918 - val_loss: 0.5859 - val_acc: 0.6842\n",
      "Epoch 53/100\n",
      "11s - loss: 0.5741 - acc: 0.6921 - val_loss: 0.5849 - val_acc: 0.6847\n",
      "Epoch 54/100\n",
      "11s - loss: 0.5736 - acc: 0.6925 - val_loss: 0.5855 - val_acc: 0.6841\n",
      "Epoch 55/100\n",
      "11s - loss: 0.5738 - acc: 0.6924 - val_loss: 0.5858 - val_acc: 0.6846\n",
      "Epoch 56/100\n",
      "11s - loss: 0.5733 - acc: 0.6927 - val_loss: 0.5845 - val_acc: 0.6849\n",
      "Epoch 57/100\n",
      "11s - loss: 0.5731 - acc: 0.6927 - val_loss: 0.5850 - val_acc: 0.6846\n",
      "Epoch 58/100\n",
      "11s - loss: 0.5729 - acc: 0.6929 - val_loss: 0.5848 - val_acc: 0.6852\n",
      "Epoch 59/100\n",
      "11s - loss: 0.5727 - acc: 0.6931 - val_loss: 0.5850 - val_acc: 0.6846\n",
      "Epoch 60/100\n",
      "11s - loss: 0.5722 - acc: 0.6936 - val_loss: 0.5854 - val_acc: 0.6842\n",
      "Epoch 61/100\n",
      "11s - loss: 0.5722 - acc: 0.6936 - val_loss: 0.5851 - val_acc: 0.6851\n",
      "Epoch 62/100\n",
      "11s - loss: 0.5718 - acc: 0.6936 - val_loss: 0.5855 - val_acc: 0.6856\n",
      "Epoch 63/100\n",
      "11s - loss: 0.5717 - acc: 0.6937 - val_loss: 0.5850 - val_acc: 0.6852\n",
      "Epoch 64/100\n",
      "11s - loss: 0.5713 - acc: 0.6942 - val_loss: 0.5855 - val_acc: 0.6851\n",
      "Epoch 65/100\n",
      "11s - loss: 0.5715 - acc: 0.6940 - val_loss: 0.5842 - val_acc: 0.6854\n",
      "Epoch 66/100\n",
      "11s - loss: 0.5711 - acc: 0.6943 - val_loss: 0.5853 - val_acc: 0.6836\n",
      "Epoch 67/100\n",
      "11s - loss: 0.5708 - acc: 0.6945 - val_loss: 0.5852 - val_acc: 0.6847\n",
      "Epoch 68/100\n",
      "11s - loss: 0.5704 - acc: 0.6948 - val_loss: 0.5860 - val_acc: 0.6847\n",
      "Epoch 69/100\n",
      "11s - loss: 0.5704 - acc: 0.6949 - val_loss: 0.5853 - val_acc: 0.6849\n",
      "Epoch 70/100\n",
      "11s - loss: 0.5702 - acc: 0.6950 - val_loss: 0.5849 - val_acc: 0.6854\n",
      "Epoch 71/100\n",
      "11s - loss: 0.5702 - acc: 0.6950 - val_loss: 0.5851 - val_acc: 0.6861\n",
      "Epoch 72/100\n",
      "11s - loss: 0.5699 - acc: 0.6952 - val_loss: 0.5850 - val_acc: 0.6846\n",
      "Epoch 73/100\n",
      "11s - loss: 0.5695 - acc: 0.6954 - val_loss: 0.5845 - val_acc: 0.6854\n",
      "Epoch 74/100\n",
      "11s - loss: 0.5695 - acc: 0.6953 - val_loss: 0.5850 - val_acc: 0.6856\n",
      "Epoch 75/100\n",
      "11s - loss: 0.5692 - acc: 0.6956 - val_loss: 0.5852 - val_acc: 0.6858\n",
      "Epoch 76/100\n",
      "11s - loss: 0.5692 - acc: 0.6957 - val_loss: 0.5854 - val_acc: 0.6851\n",
      "Epoch 77/100\n",
      "11s - loss: 0.5688 - acc: 0.6961 - val_loss: 0.5852 - val_acc: 0.6852\n",
      "Epoch 78/100\n",
      "11s - loss: 0.5686 - acc: 0.6961 - val_loss: 0.5860 - val_acc: 0.6848\n"
     ]
    }
   ],
   "source": [
    "fit(nUnitsPos = 20,nlayerPos = 1, nUnits = 160, nlayer = 3, batchSize = 5000, timelimit = 900)"
   ]
  },
  {
   "cell_type": "markdown",
   "metadata": {},
   "source": [
    "Now it's 35% CPU, and GPU between 38% and 52%\n",
    "\n",
    "Model 2 (20,1,160,3) is more complex than model 1 (10,0,80,1) and both use the same batchSize of 5000 so it's strange that the 1st epoch of model 1 be longer than the one of model 2 (91 s vs 12 s). Afterwards, it's normal with (8 s vs 11 s).\n",
    "\n",
    "It's not because model 1 was the first and there was some more compilation to do since I did model 0 before, unless the compilation had to be done again because I closed my computer, but I did not between model 1 and 2.\n",
    "\n",
    "It's worth to be explored so I don't get too long 1st epoch. Also, I should not take count of it while comparing the plots."
   ]
  },
  {
   "cell_type": "code",
   "execution_count": 14,
   "metadata": {
    "collapsed": false
   },
   "outputs": [
    {
     "data": {
      "image/png": "[encoded data removed]",
      "text/plain": [
       "<matplotlib.figure.Figure at 0x247d925ada0>"
      ]
     },
     "metadata": {},
     "output_type": "display_data"
    }
   ],
   "source": [
    "Plot(1, 'acc', '10,0,80,1')\n",
    "Plot(2, 'acc', '20,1,160,3')\n",
    "plt.legend();"
   ]
  },
  {
   "cell_type": "code",
   "execution_count": 15,
   "metadata": {
    "collapsed": false
   },
   "outputs": [
    {
     "name": "stdout",
     "output_type": "stream",
     "text": [
      "Epoch 1/100\n",
      "27s - loss: 0.6198 - acc: 0.6511 - val_loss: 0.6075 - val_acc: 0.6666\n",
      "Epoch 2/100\n",
      "26s - loss: 0.6030 - acc: 0.6700 - val_loss: 0.6016 - val_acc: 0.6714\n",
      "Epoch 3/100\n",
      "26s - loss: 0.5989 - acc: 0.6732 - val_loss: 0.5962 - val_acc: 0.6752\n",
      "Epoch 4/100\n",
      "26s - loss: 0.5968 - acc: 0.6750 - val_loss: 0.5975 - val_acc: 0.6746\n",
      "Epoch 5/100\n",
      "26s - loss: 0.5947 - acc: 0.6767 - val_loss: 0.5952 - val_acc: 0.6755\n",
      "Epoch 6/100\n",
      "26s - loss: 0.5931 - acc: 0.6779 - val_loss: 0.5924 - val_acc: 0.6781\n",
      "Epoch 7/100\n",
      "26s - loss: 0.5917 - acc: 0.6789 - val_loss: 0.5945 - val_acc: 0.6760\n",
      "Epoch 8/100\n",
      "26s - loss: 0.5907 - acc: 0.6796 - val_loss: 0.5922 - val_acc: 0.6784\n",
      "Epoch 9/100\n",
      "26s - loss: 0.5894 - acc: 0.6808 - val_loss: 0.5915 - val_acc: 0.6791\n",
      "Epoch 10/100\n",
      "26s - loss: 0.5885 - acc: 0.6817 - val_loss: 0.5912 - val_acc: 0.6788\n",
      "Epoch 11/100\n",
      "26s - loss: 0.5875 - acc: 0.6820 - val_loss: 0.5891 - val_acc: 0.6806\n",
      "Epoch 12/100\n",
      "26s - loss: 0.5868 - acc: 0.6825 - val_loss: 0.5894 - val_acc: 0.6803\n"
     ]
    }
   ],
   "source": [
    "# change batchsize\n",
    "\n",
    "fit(nUnitsPos = 20,nlayerPos = 1, nUnits = 160, nlayer = 3, batchSize = 1024, timelimit = 300)"
   ]
  },
  {
   "cell_type": "code",
   "execution_count": 17,
   "metadata": {
    "collapsed": false
   },
   "outputs": [
    {
     "data": {
      "image/png": "[encoded data removed]",
      "text/plain": [
       "<matplotlib.figure.Figure at 0x247daba8940>"
      ]
     },
     "metadata": {},
     "output_type": "display_data"
    }
   ],
   "source": [
    "Plot(2, 'acc', '20,1,160,3,5000')\n",
    "Plot(3, 'acc', '20,1,160,3,1024')\n",
    "plt.legend();"
   ]
  },
  {
   "cell_type": "code",
   "execution_count": 18,
   "metadata": {
    "collapsed": false
   },
   "outputs": [
    {
     "name": "stdout",
     "output_type": "stream",
     "text": [
      "Epoch 1/100\n",
      "15s - loss: 0.6254 - acc: 0.6421 - val_loss: 0.6082 - val_acc: 0.6659\n",
      "Epoch 2/100\n",
      "13s - loss: 0.6035 - acc: 0.6696 - val_loss: 0.6002 - val_acc: 0.6736\n",
      "Epoch 3/100\n",
      "13s - loss: 0.5979 - acc: 0.6744 - val_loss: 0.5983 - val_acc: 0.6736\n",
      "Epoch 4/100\n",
      "13s - loss: 0.5945 - acc: 0.6772 - val_loss: 0.5929 - val_acc: 0.6775\n",
      "Epoch 5/100\n",
      "13s - loss: 0.5924 - acc: 0.6787 - val_loss: 0.5942 - val_acc: 0.6766\n",
      "Epoch 6/100\n",
      "13s - loss: 0.5907 - acc: 0.6801 - val_loss: 0.5918 - val_acc: 0.6790\n",
      "Epoch 7/100\n",
      "13s - loss: 0.5894 - acc: 0.6808 - val_loss: 0.5933 - val_acc: 0.6773\n",
      "Epoch 8/100\n",
      "13s - loss: 0.5883 - acc: 0.6818 - val_loss: 0.5887 - val_acc: 0.6814\n",
      "Epoch 9/100\n",
      "13s - loss: 0.5868 - acc: 0.6829 - val_loss: 0.5907 - val_acc: 0.6797\n",
      "Epoch 10/100\n",
      "13s - loss: 0.5864 - acc: 0.6831 - val_loss: 0.5896 - val_acc: 0.6801\n",
      "Epoch 11/100\n",
      "13s - loss: 0.5855 - acc: 0.6839 - val_loss: 0.5883 - val_acc: 0.6819\n",
      "Epoch 12/100\n",
      "13s - loss: 0.5846 - acc: 0.6844 - val_loss: 0.5864 - val_acc: 0.6836\n",
      "Epoch 13/100\n",
      "13s - loss: 0.5840 - acc: 0.6849 - val_loss: 0.5903 - val_acc: 0.6811\n",
      "Epoch 14/100\n",
      "13s - loss: 0.5831 - acc: 0.6857 - val_loss: 0.5860 - val_acc: 0.6832\n",
      "Epoch 15/100\n",
      "13s - loss: 0.5825 - acc: 0.6862 - val_loss: 0.5862 - val_acc: 0.6833\n",
      "Epoch 16/100\n",
      "13s - loss: 0.5816 - acc: 0.6866 - val_loss: 0.5852 - val_acc: 0.6844\n",
      "Epoch 17/100\n",
      "13s - loss: 0.5813 - acc: 0.6869 - val_loss: 0.5844 - val_acc: 0.6842\n",
      "Epoch 18/100\n",
      "13s - loss: 0.5807 - acc: 0.6875 - val_loss: 0.5842 - val_acc: 0.6852\n",
      "Epoch 19/100\n",
      "13s - loss: 0.5800 - acc: 0.6879 - val_loss: 0.5850 - val_acc: 0.6841\n",
      "Epoch 20/100\n",
      "13s - loss: 0.5795 - acc: 0.6882 - val_loss: 0.5846 - val_acc: 0.6848\n",
      "Epoch 21/100\n",
      "23s - loss: 0.5788 - acc: 0.6889 - val_loss: 0.5843 - val_acc: 0.6847\n",
      "Epoch 22/100\n",
      "14s - loss: 0.5784 - acc: 0.6890 - val_loss: 0.5850 - val_acc: 0.6839\n",
      "Epoch 23/100\n",
      "13s - loss: 0.5778 - acc: 0.6895 - val_loss: 0.5829 - val_acc: 0.6857\n",
      "Epoch 24/100\n",
      "13s - loss: 0.5772 - acc: 0.6898 - val_loss: 0.5829 - val_acc: 0.6861\n",
      "Epoch 25/100\n",
      "13s - loss: 0.5770 - acc: 0.6899 - val_loss: 0.5826 - val_acc: 0.6860\n",
      "Epoch 26/100\n",
      "13s - loss: 0.5762 - acc: 0.6907 - val_loss: 0.5833 - val_acc: 0.6853\n",
      "Epoch 27/100\n",
      "13s - loss: 0.5758 - acc: 0.6911 - val_loss: 0.5828 - val_acc: 0.6867\n",
      "Epoch 28/100\n",
      "13s - loss: 0.5755 - acc: 0.6910 - val_loss: 0.5823 - val_acc: 0.6862\n",
      "Epoch 29/100\n",
      "13s - loss: 0.5747 - acc: 0.6916 - val_loss: 0.5827 - val_acc: 0.6860\n",
      "Epoch 30/100\n",
      "13s - loss: 0.5744 - acc: 0.6917 - val_loss: 0.5814 - val_acc: 0.6873\n",
      "Epoch 31/100\n",
      "13s - loss: 0.5737 - acc: 0.6923 - val_loss: 0.5810 - val_acc: 0.6877\n",
      "Epoch 32/100\n",
      "13s - loss: 0.5731 - acc: 0.6927 - val_loss: 0.5818 - val_acc: 0.6872\n",
      "Epoch 33/100\n",
      "13s - loss: 0.5728 - acc: 0.6929 - val_loss: 0.5817 - val_acc: 0.6876\n",
      "Epoch 34/100\n",
      "13s - loss: 0.5724 - acc: 0.6931 - val_loss: 0.5840 - val_acc: 0.6860\n",
      "Epoch 35/100\n",
      "13s - loss: 0.5719 - acc: 0.6935 - val_loss: 0.5821 - val_acc: 0.6871\n",
      "Epoch 36/100\n",
      "13s - loss: 0.5716 - acc: 0.6935 - val_loss: 0.5832 - val_acc: 0.6855\n",
      "Epoch 37/100\n",
      "13s - loss: 0.5711 - acc: 0.6940 - val_loss: 0.5813 - val_acc: 0.6885\n",
      "Epoch 38/100\n",
      "13s - loss: 0.5704 - acc: 0.6944 - val_loss: 0.5807 - val_acc: 0.6881\n",
      "Epoch 39/100\n",
      "13s - loss: 0.5700 - acc: 0.6948 - val_loss: 0.5831 - val_acc: 0.6862\n",
      "Epoch 40/100\n",
      "13s - loss: 0.5699 - acc: 0.6948 - val_loss: 0.5817 - val_acc: 0.6872\n",
      "Epoch 41/100\n",
      "13s - loss: 0.5694 - acc: 0.6951 - val_loss: 0.5824 - val_acc: 0.6873\n",
      "Epoch 42/100\n",
      "13s - loss: 0.5687 - acc: 0.6956 - val_loss: 0.5823 - val_acc: 0.6881\n",
      "Epoch 43/100\n",
      "13s - loss: 0.5686 - acc: 0.6957 - val_loss: 0.5819 - val_acc: 0.6881\n",
      "Epoch 44/100\n",
      "13s - loss: 0.5681 - acc: 0.6958 - val_loss: 0.5819 - val_acc: 0.6880\n",
      "Epoch 45/100\n",
      "13s - loss: 0.5676 - acc: 0.6963 - val_loss: 0.5819 - val_acc: 0.6880\n",
      "Epoch 46/100\n",
      "13s - loss: 0.5672 - acc: 0.6967 - val_loss: 0.5812 - val_acc: 0.6883\n",
      "Epoch 47/100\n",
      "13s - loss: 0.5667 - acc: 0.6970 - val_loss: 0.5809 - val_acc: 0.6883\n",
      "Epoch 48/100\n",
      "13s - loss: 0.5668 - acc: 0.6967 - val_loss: 0.5812 - val_acc: 0.6889\n",
      "Epoch 49/100\n",
      "13s - loss: 0.5662 - acc: 0.6976 - val_loss: 0.5813 - val_acc: 0.6883\n",
      "Epoch 50/100\n",
      "13s - loss: 0.5656 - acc: 0.6976 - val_loss: 0.5821 - val_acc: 0.6887\n",
      "Epoch 51/100\n",
      "13s - loss: 0.5656 - acc: 0.6977 - val_loss: 0.5817 - val_acc: 0.6880\n",
      "Epoch 52/100\n",
      "13s - loss: 0.5648 - acc: 0.6984 - val_loss: 0.5809 - val_acc: 0.6890\n",
      "Epoch 53/100\n",
      "13s - loss: 0.5646 - acc: 0.6982 - val_loss: 0.5827 - val_acc: 0.6888\n",
      "Epoch 54/100\n",
      "13s - loss: 0.5642 - acc: 0.6986 - val_loss: 0.5823 - val_acc: 0.6883\n",
      "Epoch 55/100\n",
      "13s - loss: 0.5641 - acc: 0.6986 - val_loss: 0.5815 - val_acc: 0.6889\n",
      "Epoch 56/100\n",
      "13s - loss: 0.5636 - acc: 0.6988 - val_loss: 0.5816 - val_acc: 0.6886\n",
      "Epoch 57/100\n",
      "13s - loss: 0.5634 - acc: 0.6989 - val_loss: 0.5825 - val_acc: 0.6882\n",
      "Epoch 58/100\n",
      "13s - loss: 0.5629 - acc: 0.6994 - val_loss: 0.5821 - val_acc: 0.6887\n",
      "Epoch 59/100\n",
      "13s - loss: 0.5626 - acc: 0.6998 - val_loss: 0.5820 - val_acc: 0.6883\n",
      "Epoch 60/100\n",
      "13s - loss: 0.5621 - acc: 0.6999 - val_loss: 0.5814 - val_acc: 0.6895\n",
      "Epoch 61/100\n",
      "13s - loss: 0.5620 - acc: 0.7002 - val_loss: 0.5824 - val_acc: 0.6887\n",
      "Epoch 62/100\n",
      "13s - loss: 0.5614 - acc: 0.7004 - val_loss: 0.5814 - val_acc: 0.6893\n",
      "Epoch 63/100\n",
      "13s - loss: 0.5613 - acc: 0.7006 - val_loss: 0.5831 - val_acc: 0.6883\n",
      "Epoch 64/100\n",
      "13s - loss: 0.5610 - acc: 0.7009 - val_loss: 0.5819 - val_acc: 0.6889\n",
      "Epoch 65/100\n",
      "13s - loss: 0.5606 - acc: 0.7007 - val_loss: 0.5817 - val_acc: 0.6901\n"
     ]
    }
   ],
   "source": [
    "fit(nUnitsPos = 20,nlayerPos = 1, nUnits = 160, nlayer = 5, batchSize = 5000, timelimit = 900)"
   ]
  },
  {
   "cell_type": "code",
   "execution_count": 19,
   "metadata": {
    "collapsed": false
   },
   "outputs": [
    {
     "name": "stdout",
     "output_type": "stream",
     "text": [
      "Epoch 1/100\n",
      "16s - loss: 0.6236 - acc: 0.6437 - val_loss: 0.6080 - val_acc: 0.6650\n",
      "Epoch 2/100\n",
      "15s - loss: 0.6009 - acc: 0.6716 - val_loss: 0.5979 - val_acc: 0.6740\n",
      "Epoch 3/100\n",
      "15s - loss: 0.5949 - acc: 0.6769 - val_loss: 0.5951 - val_acc: 0.6760\n",
      "Epoch 4/100\n",
      "15s - loss: 0.5916 - acc: 0.6795 - val_loss: 0.5918 - val_acc: 0.6780\n",
      "Epoch 5/100\n",
      "15s - loss: 0.5896 - acc: 0.6809 - val_loss: 0.5919 - val_acc: 0.6787\n",
      "Epoch 6/100\n",
      "15s - loss: 0.5879 - acc: 0.6821 - val_loss: 0.5892 - val_acc: 0.6813\n",
      "Epoch 7/100\n",
      "15s - loss: 0.5862 - acc: 0.6833 - val_loss: 0.5871 - val_acc: 0.6818\n",
      "Epoch 8/100\n",
      "15s - loss: 0.5850 - acc: 0.6839 - val_loss: 0.5858 - val_acc: 0.6842\n",
      "Epoch 9/100\n",
      "15s - loss: 0.5839 - acc: 0.6851 - val_loss: 0.5866 - val_acc: 0.6829\n",
      "Epoch 10/100\n",
      "15s - loss: 0.5830 - acc: 0.6855 - val_loss: 0.5845 - val_acc: 0.6847\n",
      "Epoch 11/100\n",
      "15s - loss: 0.5815 - acc: 0.6868 - val_loss: 0.5848 - val_acc: 0.6841\n",
      "Epoch 12/100\n",
      "15s - loss: 0.5808 - acc: 0.6872 - val_loss: 0.5836 - val_acc: 0.6855\n",
      "Epoch 13/100\n",
      "15s - loss: 0.5798 - acc: 0.6880 - val_loss: 0.5835 - val_acc: 0.6852\n",
      "Epoch 14/100\n",
      "15s - loss: 0.5790 - acc: 0.6886 - val_loss: 0.5853 - val_acc: 0.6835\n",
      "Epoch 15/100\n",
      "15s - loss: 0.5780 - acc: 0.6892 - val_loss: 0.5827 - val_acc: 0.6857\n",
      "Epoch 16/100\n",
      "15s - loss: 0.5770 - acc: 0.6899 - val_loss: 0.5827 - val_acc: 0.6862\n",
      "Epoch 17/100\n",
      "15s - loss: 0.5763 - acc: 0.6904 - val_loss: 0.5817 - val_acc: 0.6868\n",
      "Epoch 18/100\n",
      "15s - loss: 0.5754 - acc: 0.6911 - val_loss: 0.5816 - val_acc: 0.6874\n",
      "Epoch 19/100\n",
      "15s - loss: 0.5746 - acc: 0.6918 - val_loss: 0.5817 - val_acc: 0.6872\n",
      "Epoch 20/100\n",
      "15s - loss: 0.5739 - acc: 0.6923 - val_loss: 0.5803 - val_acc: 0.6881\n",
      "Epoch 21/100\n",
      "15s - loss: 0.5731 - acc: 0.6928 - val_loss: 0.5796 - val_acc: 0.6876\n",
      "Epoch 22/100\n",
      "15s - loss: 0.5722 - acc: 0.6933 - val_loss: 0.5799 - val_acc: 0.6881\n",
      "Epoch 23/100\n",
      "15s - loss: 0.5714 - acc: 0.6937 - val_loss: 0.5802 - val_acc: 0.6884\n",
      "Epoch 24/100\n",
      "15s - loss: 0.5705 - acc: 0.6946 - val_loss: 0.5798 - val_acc: 0.6885\n",
      "Epoch 25/100\n",
      "15s - loss: 0.5698 - acc: 0.6952 - val_loss: 0.5807 - val_acc: 0.6885\n",
      "Epoch 26/100\n",
      "15s - loss: 0.5693 - acc: 0.6953 - val_loss: 0.5790 - val_acc: 0.6895\n",
      "Epoch 27/100\n",
      "15s - loss: 0.5684 - acc: 0.6959 - val_loss: 0.5799 - val_acc: 0.6886\n",
      "Epoch 28/100\n",
      "15s - loss: 0.5678 - acc: 0.6964 - val_loss: 0.5800 - val_acc: 0.6888\n",
      "Epoch 29/100\n",
      "15s - loss: 0.5667 - acc: 0.6970 - val_loss: 0.5792 - val_acc: 0.6901\n",
      "Epoch 30/100\n",
      "15s - loss: 0.5663 - acc: 0.6972 - val_loss: 0.5798 - val_acc: 0.6900\n",
      "Epoch 31/100\n",
      "15s - loss: 0.5656 - acc: 0.6975 - val_loss: 0.5804 - val_acc: 0.6890\n",
      "Epoch 32/100\n",
      "15s - loss: 0.5646 - acc: 0.6984 - val_loss: 0.5807 - val_acc: 0.6884\n",
      "Epoch 33/100\n",
      "15s - loss: 0.5643 - acc: 0.6986 - val_loss: 0.5795 - val_acc: 0.6897\n",
      "Epoch 34/100\n",
      "15s - loss: 0.5635 - acc: 0.6991 - val_loss: 0.5795 - val_acc: 0.6906\n",
      "Epoch 35/100\n",
      "15s - loss: 0.5631 - acc: 0.6993 - val_loss: 0.5794 - val_acc: 0.6896\n",
      "Epoch 36/100\n",
      "15s - loss: 0.5621 - acc: 0.7000 - val_loss: 0.5798 - val_acc: 0.6900\n",
      "Epoch 37/100\n",
      "15s - loss: 0.5616 - acc: 0.7003 - val_loss: 0.5795 - val_acc: 0.6904\n",
      "Epoch 38/100\n",
      "15s - loss: 0.5608 - acc: 0.7007 - val_loss: 0.5816 - val_acc: 0.6880\n",
      "Epoch 39/100\n",
      "15s - loss: 0.5605 - acc: 0.7009 - val_loss: 0.5798 - val_acc: 0.6901\n",
      "Epoch 40/100\n",
      "15s - loss: 0.5596 - acc: 0.7016 - val_loss: 0.5799 - val_acc: 0.6894\n",
      "Epoch 41/100\n",
      "15s - loss: 0.5593 - acc: 0.7019 - val_loss: 0.5804 - val_acc: 0.6896\n",
      "Epoch 42/100\n",
      "15s - loss: 0.5585 - acc: 0.7022 - val_loss: 0.5825 - val_acc: 0.6898\n",
      "Epoch 43/100\n",
      "15s - loss: 0.5578 - acc: 0.7027 - val_loss: 0.5818 - val_acc: 0.6894\n",
      "Epoch 44/100\n",
      "15s - loss: 0.5575 - acc: 0.7028 - val_loss: 0.5811 - val_acc: 0.6903\n",
      "Epoch 45/100\n",
      "15s - loss: 0.5569 - acc: 0.7030 - val_loss: 0.5808 - val_acc: 0.6911\n",
      "Epoch 46/100\n",
      "15s - loss: 0.5559 - acc: 0.7038 - val_loss: 0.5810 - val_acc: 0.6899\n",
      "Epoch 47/100\n",
      "15s - loss: 0.5558 - acc: 0.7040 - val_loss: 0.5807 - val_acc: 0.6906\n",
      "Epoch 48/100\n",
      "15s - loss: 0.5549 - acc: 0.7044 - val_loss: 0.5822 - val_acc: 0.6890\n",
      "Epoch 49/100\n",
      "15s - loss: 0.5542 - acc: 0.7049 - val_loss: 0.5826 - val_acc: 0.6902\n",
      "Epoch 50/100\n",
      "15s - loss: 0.5537 - acc: 0.7054 - val_loss: 0.5826 - val_acc: 0.6904\n",
      "Epoch 51/100\n",
      "15s - loss: 0.5536 - acc: 0.7052 - val_loss: 0.5821 - val_acc: 0.6906\n",
      "Epoch 52/100\n",
      "15s - loss: 0.5525 - acc: 0.7060 - val_loss: 0.5830 - val_acc: 0.6906\n",
      "Epoch 53/100\n",
      "15s - loss: 0.5520 - acc: 0.7063 - val_loss: 0.5821 - val_acc: 0.6897\n",
      "Epoch 54/100\n",
      "15s - loss: 0.5514 - acc: 0.7065 - val_loss: 0.5833 - val_acc: 0.6899\n",
      "Epoch 55/100\n",
      "15s - loss: 0.5510 - acc: 0.7068 - val_loss: 0.5824 - val_acc: 0.6903\n",
      "Epoch 56/100\n",
      "15s - loss: 0.5503 - acc: 0.7075 - val_loss: 0.5849 - val_acc: 0.6894\n",
      "Epoch 57/100\n",
      "15s - loss: 0.5501 - acc: 0.7076 - val_loss: 0.5842 - val_acc: 0.6897\n",
      "Epoch 58/100\n",
      "15s - loss: 0.5490 - acc: 0.7082 - val_loss: 0.5851 - val_acc: 0.6904\n"
     ]
    }
   ],
   "source": [
    "fit(nUnitsPos = 20,nlayerPos = 1, nUnits = 320, nlayer = 3, batchSize = 5000, timelimit = 900)"
   ]
  },
  {
   "cell_type": "code",
   "execution_count": 20,
   "metadata": {
    "collapsed": false
   },
   "outputs": [
    {
     "name": "stdout",
     "output_type": "stream",
     "text": [
      "Epoch 1/100\n",
      "12s - loss: 0.6260 - acc: 0.6412 - val_loss: 0.6082 - val_acc: 0.6664\n",
      "Epoch 2/100\n",
      "12s - loss: 0.6027 - acc: 0.6707 - val_loss: 0.5999 - val_acc: 0.6735\n",
      "Epoch 3/100\n",
      "12s - loss: 0.5973 - acc: 0.6751 - val_loss: 0.5955 - val_acc: 0.6762\n",
      "Epoch 4/100\n",
      "12s - loss: 0.5941 - acc: 0.6774 - val_loss: 0.5939 - val_acc: 0.6778\n",
      "Epoch 5/100\n",
      "12s - loss: 0.5923 - acc: 0.6787 - val_loss: 0.5923 - val_acc: 0.6789\n",
      "Epoch 6/100\n",
      "12s - loss: 0.5904 - acc: 0.6800 - val_loss: 0.5905 - val_acc: 0.6798\n",
      "Epoch 7/100\n",
      "12s - loss: 0.5890 - acc: 0.6812 - val_loss: 0.5913 - val_acc: 0.6788\n",
      "Epoch 8/100\n",
      "12s - loss: 0.5878 - acc: 0.6820 - val_loss: 0.5909 - val_acc: 0.6800\n",
      "Epoch 9/100\n",
      "12s - loss: 0.5872 - acc: 0.6824 - val_loss: 0.5880 - val_acc: 0.6819\n",
      "Epoch 10/100\n",
      "12s - loss: 0.5861 - acc: 0.6833 - val_loss: 0.5882 - val_acc: 0.6820\n",
      "Epoch 11/100\n",
      "12s - loss: 0.5856 - acc: 0.6836 - val_loss: 0.5869 - val_acc: 0.6825\n",
      "Epoch 12/100\n",
      "12s - loss: 0.5850 - acc: 0.6841 - val_loss: 0.5869 - val_acc: 0.6824\n",
      "Epoch 13/100\n",
      "12s - loss: 0.5842 - acc: 0.6847 - val_loss: 0.5863 - val_acc: 0.6830\n",
      "Epoch 14/100\n",
      "12s - loss: 0.5836 - acc: 0.6852 - val_loss: 0.5856 - val_acc: 0.6834\n",
      "Epoch 15/100\n",
      "12s - loss: 0.5830 - acc: 0.6854 - val_loss: 0.5860 - val_acc: 0.6826\n",
      "Epoch 16/100\n",
      "12s - loss: 0.5824 - acc: 0.6860 - val_loss: 0.5878 - val_acc: 0.6820\n",
      "Epoch 17/100\n",
      "12s - loss: 0.5820 - acc: 0.6862 - val_loss: 0.5851 - val_acc: 0.6840\n",
      "Epoch 18/100\n",
      "12s - loss: 0.5816 - acc: 0.6864 - val_loss: 0.5855 - val_acc: 0.6838\n",
      "Epoch 19/100\n",
      "12s - loss: 0.5809 - acc: 0.6871 - val_loss: 0.5837 - val_acc: 0.6847\n",
      "Epoch 20/100\n",
      "12s - loss: 0.5804 - acc: 0.6873 - val_loss: 0.5868 - val_acc: 0.6830\n",
      "Epoch 21/100\n",
      "12s - loss: 0.5802 - acc: 0.6876 - val_loss: 0.5838 - val_acc: 0.6844\n",
      "Epoch 22/100\n",
      "12s - loss: 0.5796 - acc: 0.6878 - val_loss: 0.5834 - val_acc: 0.6851\n",
      "Epoch 23/100\n",
      "12s - loss: 0.5794 - acc: 0.6883 - val_loss: 0.5829 - val_acc: 0.6854\n",
      "Epoch 24/100\n",
      "12s - loss: 0.5788 - acc: 0.6886 - val_loss: 0.5835 - val_acc: 0.6851\n",
      "Epoch 25/100\n",
      "12s - loss: 0.5782 - acc: 0.6890 - val_loss: 0.5822 - val_acc: 0.6865\n",
      "Epoch 26/100\n",
      "12s - loss: 0.5783 - acc: 0.6889 - val_loss: 0.5830 - val_acc: 0.6856\n",
      "Epoch 27/100\n",
      "12s - loss: 0.5774 - acc: 0.6894 - val_loss: 0.5827 - val_acc: 0.6855\n",
      "Epoch 28/100\n",
      "12s - loss: 0.5772 - acc: 0.6899 - val_loss: 0.5815 - val_acc: 0.6864\n",
      "Epoch 29/100\n",
      "12s - loss: 0.5770 - acc: 0.6899 - val_loss: 0.5822 - val_acc: 0.6862\n",
      "Epoch 30/100\n",
      "12s - loss: 0.5764 - acc: 0.6904 - val_loss: 0.5819 - val_acc: 0.6865\n",
      "Epoch 31/100\n",
      "12s - loss: 0.5762 - acc: 0.6905 - val_loss: 0.5836 - val_acc: 0.6854\n",
      "Epoch 32/100\n",
      "12s - loss: 0.5757 - acc: 0.6909 - val_loss: 0.5813 - val_acc: 0.6865\n",
      "Epoch 33/100\n",
      "12s - loss: 0.5755 - acc: 0.6909 - val_loss: 0.5810 - val_acc: 0.6874\n",
      "Epoch 34/100\n",
      "12s - loss: 0.5751 - acc: 0.6913 - val_loss: 0.5819 - val_acc: 0.6869\n",
      "Epoch 35/100\n",
      "12s - loss: 0.5749 - acc: 0.6914 - val_loss: 0.5812 - val_acc: 0.6872\n",
      "Epoch 36/100\n",
      "12s - loss: 0.5744 - acc: 0.6917 - val_loss: 0.5821 - val_acc: 0.6867\n",
      "Epoch 37/100\n",
      "12s - loss: 0.5743 - acc: 0.6916 - val_loss: 0.5822 - val_acc: 0.6858\n",
      "Epoch 38/100\n",
      "12s - loss: 0.5739 - acc: 0.6921 - val_loss: 0.5808 - val_acc: 0.6872\n",
      "Epoch 39/100\n",
      "12s - loss: 0.5737 - acc: 0.6923 - val_loss: 0.5811 - val_acc: 0.6875\n",
      "Epoch 40/100\n",
      "12s - loss: 0.5733 - acc: 0.6926 - val_loss: 0.5805 - val_acc: 0.6873\n",
      "Epoch 41/100\n",
      "12s - loss: 0.5729 - acc: 0.6928 - val_loss: 0.5834 - val_acc: 0.6857\n",
      "Epoch 42/100\n",
      "12s - loss: 0.5727 - acc: 0.6931 - val_loss: 0.5811 - val_acc: 0.6872\n",
      "Epoch 43/100\n",
      "12s - loss: 0.5726 - acc: 0.6932 - val_loss: 0.5831 - val_acc: 0.6853\n",
      "Epoch 44/100\n",
      "12s - loss: 0.5722 - acc: 0.6934 - val_loss: 0.5820 - val_acc: 0.6876\n",
      "Epoch 45/100\n",
      "12s - loss: 0.5721 - acc: 0.6935 - val_loss: 0.5797 - val_acc: 0.6881\n",
      "Epoch 46/100\n",
      "12s - loss: 0.5716 - acc: 0.6937 - val_loss: 0.5802 - val_acc: 0.6877\n",
      "Epoch 47/100\n",
      "12s - loss: 0.5714 - acc: 0.6939 - val_loss: 0.5800 - val_acc: 0.6885\n",
      "Epoch 48/100\n",
      "12s - loss: 0.5712 - acc: 0.6939 - val_loss: 0.5817 - val_acc: 0.6864\n",
      "Epoch 49/100\n",
      "12s - loss: 0.5710 - acc: 0.6942 - val_loss: 0.5808 - val_acc: 0.6883\n",
      "Epoch 50/100\n",
      "12s - loss: 0.5705 - acc: 0.6945 - val_loss: 0.5800 - val_acc: 0.6884\n",
      "Epoch 51/100\n",
      "12s - loss: 0.5702 - acc: 0.6947 - val_loss: 0.5806 - val_acc: 0.6879\n",
      "Epoch 52/100\n",
      "12s - loss: 0.5705 - acc: 0.6945 - val_loss: 0.5812 - val_acc: 0.6873\n",
      "Epoch 53/100\n",
      "12s - loss: 0.5698 - acc: 0.6951 - val_loss: 0.5802 - val_acc: 0.6888\n",
      "Epoch 54/100\n",
      "12s - loss: 0.5698 - acc: 0.6951 - val_loss: 0.5797 - val_acc: 0.6881\n",
      "Epoch 55/100\n",
      "12s - loss: 0.5693 - acc: 0.6953 - val_loss: 0.5799 - val_acc: 0.6884\n",
      "Epoch 56/100\n",
      "12s - loss: 0.5694 - acc: 0.6954 - val_loss: 0.5802 - val_acc: 0.6884\n",
      "Epoch 57/100\n",
      "12s - loss: 0.5690 - acc: 0.6957 - val_loss: 0.5818 - val_acc: 0.6870\n",
      "Epoch 58/100\n",
      "12s - loss: 0.5690 - acc: 0.6956 - val_loss: 0.5813 - val_acc: 0.6882\n",
      "Epoch 59/100\n",
      "12s - loss: 0.5683 - acc: 0.6961 - val_loss: 0.5806 - val_acc: 0.6872\n",
      "Epoch 60/100\n",
      "12s - loss: 0.5684 - acc: 0.6960 - val_loss: 0.5805 - val_acc: 0.6884\n",
      "Epoch 61/100\n",
      "12s - loss: 0.5682 - acc: 0.6960 - val_loss: 0.5799 - val_acc: 0.6891\n",
      "Epoch 62/100\n",
      "12s - loss: 0.5679 - acc: 0.6962 - val_loss: 0.5804 - val_acc: 0.6881\n",
      "Epoch 63/100\n",
      "12s - loss: 0.5677 - acc: 0.6964 - val_loss: 0.5806 - val_acc: 0.6891\n",
      "Epoch 64/100\n",
      "12s - loss: 0.5674 - acc: 0.6968 - val_loss: 0.5803 - val_acc: 0.6887\n",
      "Epoch 65/100\n",
      "12s - loss: 0.5675 - acc: 0.6964 - val_loss: 0.5801 - val_acc: 0.6883\n",
      "Epoch 66/100\n",
      "12s - loss: 0.5671 - acc: 0.6970 - val_loss: 0.5805 - val_acc: 0.6883\n",
      "Epoch 67/100\n",
      "12s - loss: 0.5670 - acc: 0.6969 - val_loss: 0.5799 - val_acc: 0.6890\n",
      "Epoch 68/100\n",
      "12s - loss: 0.5666 - acc: 0.6972 - val_loss: 0.5815 - val_acc: 0.6876\n",
      "Epoch 69/100\n",
      "12s - loss: 0.5664 - acc: 0.6972 - val_loss: 0.5815 - val_acc: 0.6881\n",
      "Epoch 70/100\n",
      "12s - loss: 0.5662 - acc: 0.6976 - val_loss: 0.5806 - val_acc: 0.6883\n",
      "Epoch 71/100\n",
      "12s - loss: 0.5662 - acc: 0.6974 - val_loss: 0.5796 - val_acc: 0.6890\n",
      "Epoch 72/100\n",
      "12s - loss: 0.5659 - acc: 0.6975 - val_loss: 0.5800 - val_acc: 0.6889\n",
      "Epoch 73/100\n",
      "12s - loss: 0.5654 - acc: 0.6983 - val_loss: 0.5795 - val_acc: 0.6895\n",
      "Epoch 74/100\n",
      "12s - loss: 0.5656 - acc: 0.6978 - val_loss: 0.5797 - val_acc: 0.6891\n",
      "Epoch 75/100\n",
      "12s - loss: 0.5653 - acc: 0.6981 - val_loss: 0.5794 - val_acc: 0.6896\n"
     ]
    }
   ],
   "source": [
    "fit(nUnitsPos = 20,nlayerPos = 2, nUnits = 160, nlayer = 3, batchSize = 5000, timelimit = 900)"
   ]
  },
  {
   "cell_type": "code",
   "execution_count": 21,
   "metadata": {
    "collapsed": false
   },
   "outputs": [
    {
     "data": {
      "image/png": "[encoded data removed]",
      "text/plain": [
       "<matplotlib.figure.Figure at 0x247de36b358>"
      ]
     },
     "metadata": {},
     "output_type": "display_data"
    }
   ],
   "source": [
    "Plot(2, 'acc', '20,1,160,3,5000')\n",
    "Plot(4, 'acc', '20,1,160,5,5000')\n",
    "Plot(5, 'acc', '20,1,320,3,5000')\n",
    "Plot(6, 'acc', '20,2,160,3,5000')\n",
    "plt.legend();"
   ]
  },
  {
   "cell_type": "code",
   "execution_count": 22,
   "metadata": {
    "collapsed": false
   },
   "outputs": [
    {
     "name": "stdout",
     "output_type": "stream",
     "text": [
      "Epoch 1/100\n",
      "66s - loss: 0.6184 - acc: 0.6497 - val_loss: 0.6020 - val_acc: 0.6698\n",
      "Epoch 2/100\n",
      "65s - loss: 0.5980 - acc: 0.6741 - val_loss: 0.5970 - val_acc: 0.6766\n",
      "Epoch 3/100\n",
      "65s - loss: 0.5934 - acc: 0.6776 - val_loss: 0.5914 - val_acc: 0.6796\n",
      "Epoch 4/100\n",
      "65s - loss: 0.5900 - acc: 0.6804 - val_loss: 0.5887 - val_acc: 0.6810\n",
      "Epoch 5/100\n",
      "66s - loss: 0.5878 - acc: 0.6821 - val_loss: 0.5944 - val_acc: 0.6797\n",
      "Epoch 6/100\n",
      "67s - loss: 0.5857 - acc: 0.6835 - val_loss: 0.5878 - val_acc: 0.6811\n",
      "Epoch 7/100\n",
      "67s - loss: 0.5837 - acc: 0.6851 - val_loss: 0.5856 - val_acc: 0.6832\n",
      "Epoch 8/100\n",
      "67s - loss: 0.5819 - acc: 0.6866 - val_loss: 0.5852 - val_acc: 0.6841\n",
      "Epoch 9/100\n",
      "67s - loss: 0.5800 - acc: 0.6879 - val_loss: 0.5839 - val_acc: 0.6852\n",
      "Epoch 10/100\n",
      "67s - loss: 0.5781 - acc: 0.6893 - val_loss: 0.5837 - val_acc: 0.6857\n",
      "Epoch 11/100\n",
      "67s - loss: 0.5762 - acc: 0.6907 - val_loss: 0.5822 - val_acc: 0.6866\n",
      "Epoch 12/100\n",
      "67s - loss: 0.5746 - acc: 0.6912 - val_loss: 0.5818 - val_acc: 0.6869\n",
      "Epoch 13/100\n",
      "66s - loss: 0.5727 - acc: 0.6929 - val_loss: 0.5810 - val_acc: 0.6876\n",
      "Epoch 14/100\n",
      "66s - loss: 0.5704 - acc: 0.6945 - val_loss: 0.5799 - val_acc: 0.6884\n"
     ]
    }
   ],
   "source": [
    "fit(nUnitsPos = 50,nlayerPos = 3, nUnits = 640, nlayer = 8, batchSize = 5000, timelimit = 900)"
   ]
  },
  {
   "cell_type": "code",
   "execution_count": 23,
   "metadata": {
    "collapsed": false
   },
   "outputs": [
    {
     "data": {
      "image/png": "[encoded data removed]",
      "text/plain": [
       "<matplotlib.figure.Figure at 0x247dfaa9198>"
      ]
     },
     "metadata": {},
     "output_type": "display_data"
    }
   ],
   "source": [
    "Plot(7, 'acc', '50,3,640,8,5000')\n",
    "Plot(4, 'acc', '20,1,160,5,5000')\n",
    "Plot(5, 'acc', '20,1,320,3,5000')\n",
    "Plot(6, 'acc', '20,2,160,3,5000')\n",
    "plt.legend();"
   ]
  },
  {
   "cell_type": "code",
   "execution_count": 24,
   "metadata": {
    "collapsed": false
   },
   "outputs": [
    {
     "name": "stdout",
     "output_type": "stream",
     "text": [
      "Epoch 1/100\n",
      "23s - loss: 0.6193 - acc: 0.6489 - val_loss: 0.6020 - val_acc: 0.6699\n",
      "Epoch 2/100\n",
      "22s - loss: 0.5973 - acc: 0.6745 - val_loss: 0.5955 - val_acc: 0.6757\n",
      "Epoch 3/100\n",
      "21s - loss: 0.5923 - acc: 0.6785 - val_loss: 0.5926 - val_acc: 0.6789\n",
      "Epoch 4/100\n",
      "22s - loss: 0.5895 - acc: 0.6809 - val_loss: 0.5910 - val_acc: 0.6782\n",
      "Epoch 5/100\n",
      "22s - loss: 0.5870 - acc: 0.6828 - val_loss: 0.5876 - val_acc: 0.6823\n",
      "Epoch 6/100\n",
      "21s - loss: 0.5854 - acc: 0.6842 - val_loss: 0.5862 - val_acc: 0.6838\n",
      "Epoch 7/100\n",
      "21s - loss: 0.5840 - acc: 0.6849 - val_loss: 0.5869 - val_acc: 0.6830\n",
      "Epoch 8/100\n",
      "21s - loss: 0.5824 - acc: 0.6861 - val_loss: 0.5842 - val_acc: 0.6845\n",
      "Epoch 9/100\n",
      "21s - loss: 0.5814 - acc: 0.6869 - val_loss: 0.5831 - val_acc: 0.6860\n",
      "Epoch 10/100\n",
      "21s - loss: 0.5801 - acc: 0.6878 - val_loss: 0.5835 - val_acc: 0.6860\n",
      "Epoch 11/100\n",
      "21s - loss: 0.5788 - acc: 0.6886 - val_loss: 0.5825 - val_acc: 0.6868\n",
      "Epoch 12/100\n",
      "21s - loss: 0.5776 - acc: 0.6895 - val_loss: 0.5838 - val_acc: 0.6858\n",
      "Epoch 13/100\n",
      "21s - loss: 0.5766 - acc: 0.6904 - val_loss: 0.5811 - val_acc: 0.6876\n",
      "Epoch 14/100\n",
      "21s - loss: 0.5754 - acc: 0.6912 - val_loss: 0.5814 - val_acc: 0.6873\n",
      "Epoch 15/100\n",
      "22s - loss: 0.5742 - acc: 0.6921 - val_loss: 0.5818 - val_acc: 0.6865\n",
      "Epoch 16/100\n",
      "21s - loss: 0.5731 - acc: 0.6927 - val_loss: 0.5812 - val_acc: 0.6892\n",
      "Epoch 17/100\n",
      "21s - loss: 0.5721 - acc: 0.6935 - val_loss: 0.5799 - val_acc: 0.6889\n",
      "Epoch 18/100\n",
      "21s - loss: 0.5705 - acc: 0.6945 - val_loss: 0.5804 - val_acc: 0.6886\n",
      "Epoch 19/100\n",
      "21s - loss: 0.5697 - acc: 0.6950 - val_loss: 0.5814 - val_acc: 0.6890\n",
      "Epoch 20/100\n",
      "22s - loss: 0.5687 - acc: 0.6956 - val_loss: 0.5803 - val_acc: 0.6895\n",
      "Epoch 21/100\n",
      "21s - loss: 0.5673 - acc: 0.6967 - val_loss: 0.5823 - val_acc: 0.6872\n",
      "Epoch 22/100\n",
      "21s - loss: 0.5664 - acc: 0.6971 - val_loss: 0.5800 - val_acc: 0.6895\n",
      "Epoch 23/100\n",
      "21s - loss: 0.5650 - acc: 0.6982 - val_loss: 0.5801 - val_acc: 0.6890\n",
      "Epoch 24/100\n",
      "21s - loss: 0.5638 - acc: 0.6990 - val_loss: 0.5804 - val_acc: 0.6892\n",
      "Epoch 25/100\n",
      "21s - loss: 0.5629 - acc: 0.6994 - val_loss: 0.5804 - val_acc: 0.6900\n",
      "Epoch 26/100\n",
      "21s - loss: 0.5617 - acc: 0.7002 - val_loss: 0.5805 - val_acc: 0.6904\n",
      "Epoch 27/100\n",
      "21s - loss: 0.5608 - acc: 0.7006 - val_loss: 0.5823 - val_acc: 0.6887\n",
      "Epoch 28/100\n",
      "21s - loss: 0.5599 - acc: 0.7012 - val_loss: 0.5812 - val_acc: 0.6896\n",
      "Epoch 29/100\n",
      "21s - loss: 0.5588 - acc: 0.7019 - val_loss: 0.5809 - val_acc: 0.6904\n",
      "Epoch 30/100\n",
      "21s - loss: 0.5575 - acc: 0.7028 - val_loss: 0.5830 - val_acc: 0.6897\n",
      "Epoch 31/100\n",
      "21s - loss: 0.5565 - acc: 0.7037 - val_loss: 0.5805 - val_acc: 0.6914\n",
      "Epoch 32/100\n",
      "21s - loss: 0.5552 - acc: 0.7043 - val_loss: 0.5799 - val_acc: 0.6909\n",
      "Epoch 33/100\n",
      "21s - loss: 0.5545 - acc: 0.7048 - val_loss: 0.5837 - val_acc: 0.6910\n",
      "Epoch 34/100\n",
      "21s - loss: 0.5532 - acc: 0.7053 - val_loss: 0.5833 - val_acc: 0.6911\n",
      "Epoch 35/100\n",
      "21s - loss: 0.5524 - acc: 0.7060 - val_loss: 0.5828 - val_acc: 0.6907\n",
      "Epoch 36/100\n",
      "21s - loss: 0.5516 - acc: 0.7063 - val_loss: 0.5843 - val_acc: 0.6899\n",
      "Epoch 37/100\n",
      "21s - loss: 0.5503 - acc: 0.7074 - val_loss: 0.5867 - val_acc: 0.6901\n",
      "Epoch 38/100\n",
      "21s - loss: 0.5495 - acc: 0.7079 - val_loss: 0.5864 - val_acc: 0.6905\n",
      "Epoch 39/100\n",
      "21s - loss: 0.5481 - acc: 0.7085 - val_loss: 0.5868 - val_acc: 0.6900\n",
      "Epoch 40/100\n",
      "21s - loss: 0.5474 - acc: 0.7089 - val_loss: 0.5849 - val_acc: 0.6912\n",
      "Epoch 41/100\n",
      "21s - loss: 0.5465 - acc: 0.7092 - val_loss: 0.5874 - val_acc: 0.6914\n",
      "Epoch 42/100\n",
      "21s - loss: 0.5453 - acc: 0.7102 - val_loss: 0.5863 - val_acc: 0.6892\n"
     ]
    }
   ],
   "source": [
    "fit(nUnitsPos = 20,nlayerPos = 2, nUnits = 320, nlayer = 5, batchSize = 5000, timelimit = 900)"
   ]
  },
  {
   "cell_type": "code",
   "execution_count": 38,
   "metadata": {
    "collapsed": false
   },
   "outputs": [
    {
     "data": {
      "image/png": "[encoded data removed]",
      "text/plain": [
       "<matplotlib.figure.Figure at 0x247e00be710>"
      ]
     },
     "metadata": {},
     "output_type": "display_data"
    }
   ],
   "source": [
    "Plot(8, 'acc', '20,2,320,5,5000')\n",
    "Plot(4, 'acc', '20,1,160,5,5000')\n",
    "Plot(5, 'acc', '20,1,320,3,5000')\n",
    "Plot(6, 'acc', '20,2,160,3,5000')\n",
    "plt.legend();"
   ]
  },
  {
   "cell_type": "code",
   "execution_count": 34,
   "metadata": {
    "collapsed": false
   },
   "outputs": [
    {
     "name": "stdout",
     "output_type": "stream",
     "text": [
      "Epoch 1/200\n",
      "16s - loss: 0.5488 - acc: 0.7085 - val_loss: 0.5850 - val_acc: 0.6886\n",
      "Epoch 2/200\n",
      "16s - loss: 0.5481 - acc: 0.7086 - val_loss: 0.5842 - val_acc: 0.6899\n",
      "Epoch 3/200\n",
      "16s - loss: 0.5477 - acc: 0.7091 - val_loss: 0.5870 - val_acc: 0.6888\n",
      "Epoch 4/200\n",
      "16s - loss: 0.5472 - acc: 0.7093 - val_loss: 0.5860 - val_acc: 0.6890\n",
      "Epoch 5/200\n",
      "16s - loss: 0.5467 - acc: 0.7095 - val_loss: 0.5866 - val_acc: 0.6896\n",
      "Epoch 6/200\n",
      "15s - loss: 0.5460 - acc: 0.7102 - val_loss: 0.5869 - val_acc: 0.6893\n",
      "Epoch 7/200\n",
      "15s - loss: 0.5456 - acc: 0.7103 - val_loss: 0.5870 - val_acc: 0.6882\n",
      "Epoch 8/200\n",
      "15s - loss: 0.5452 - acc: 0.7104 - val_loss: 0.5873 - val_acc: 0.6888\n",
      "Epoch 9/200\n",
      "15s - loss: 0.5446 - acc: 0.7109 - val_loss: 0.5865 - val_acc: 0.6901\n",
      "Epoch 10/200\n",
      "15s - loss: 0.5441 - acc: 0.7111 - val_loss: 0.5879 - val_acc: 0.6895\n",
      "Epoch 11/200\n",
      "15s - loss: 0.5435 - acc: 0.7116 - val_loss: 0.5894 - val_acc: 0.6887\n",
      "Epoch 12/200\n",
      "15s - loss: 0.5431 - acc: 0.7118 - val_loss: 0.5889 - val_acc: 0.6894\n",
      "Epoch 13/200\n",
      "15s - loss: 0.5425 - acc: 0.7119 - val_loss: 0.5895 - val_acc: 0.6887\n"
     ]
    }
   ],
   "source": [
    "refit(5000, 900, 5, 10)"
   ]
  },
  {
   "cell_type": "code",
   "execution_count": 35,
   "metadata": {
    "collapsed": false
   },
   "outputs": [
    {
     "name": "stdout",
     "output_type": "stream",
     "text": [
      "Epoch 1/200\n",
      "21s - loss: 0.5445 - acc: 0.7107 - val_loss: 0.5875 - val_acc: 0.6910\n",
      "Epoch 2/200\n",
      "21s - loss: 0.5434 - acc: 0.7112 - val_loss: 0.5902 - val_acc: 0.6899\n",
      "Epoch 3/200\n",
      "21s - loss: 0.5426 - acc: 0.7115 - val_loss: 0.5896 - val_acc: 0.6898\n",
      "Epoch 4/200\n",
      "21s - loss: 0.5415 - acc: 0.7122 - val_loss: 0.5904 - val_acc: 0.6904\n",
      "Epoch 5/200\n",
      "21s - loss: 0.5406 - acc: 0.7129 - val_loss: 0.5926 - val_acc: 0.6911\n",
      "Epoch 6/200\n",
      "21s - loss: 0.5396 - acc: 0.7134 - val_loss: 0.5904 - val_acc: 0.6901\n",
      "Epoch 7/200\n",
      "21s - loss: 0.5388 - acc: 0.7139 - val_loss: 0.5945 - val_acc: 0.6901\n",
      "Epoch 8/200\n",
      "21s - loss: 0.5378 - acc: 0.7144 - val_loss: 0.5958 - val_acc: 0.6888\n",
      "Epoch 9/200\n",
      "21s - loss: 0.5371 - acc: 0.7149 - val_loss: 0.5953 - val_acc: 0.6903\n",
      "Epoch 10/200\n",
      "21s - loss: 0.5360 - acc: 0.7157 - val_loss: 0.5974 - val_acc: 0.6890\n",
      "Epoch 11/200\n",
      "22s - loss: 0.5354 - acc: 0.7159 - val_loss: 0.5963 - val_acc: 0.6899\n",
      "Epoch 12/200\n",
      "21s - loss: 0.5341 - acc: 0.7166 - val_loss: 0.6000 - val_acc: 0.6886\n"
     ]
    }
   ],
   "source": [
    "refit(5000, 900, 8, 10)"
   ]
  },
  {
   "cell_type": "code",
   "execution_count": 40,
   "metadata": {
    "collapsed": false
   },
   "outputs": [
    {
     "data": {
      "image/png": "[encoded data removed]",
      "text/plain": [
       "<matplotlib.figure.Figure at 0x247e001bba8>"
      ]
     },
     "metadata": {},
     "output_type": "display_data"
    }
   ],
   "source": [
    "Plot2(5, 0, label = '20,1,320,3,5000')\n",
    "Plot2(8, 1, label = '20,2,320,5,5000')\n",
    "plt.legend();"
   ]
  },
  {
   "cell_type": "markdown",
   "metadata": {},
   "source": [
    "# Do only lightning \n",
    "num_cause = 2"
   ]
  },
  {
   "cell_type": "markdown",
   "metadata": {},
   "source": [
    "### Already done, do not do again"
   ]
  },
  {
   "cell_type": "code",
   "execution_count": 57,
   "metadata": {
    "collapsed": false
   },
   "outputs": [],
   "source": [
    "weatherData = np.concatenate((np.load('weatherData1991.npy'),np.load('FullweatherData.npy'),np.load('weatherData2000_04.npy'),\n",
    "                             np.load('weatherData2005_09.npy'),np.load('weatherData2010_15.npy')))\n",
    "df = pd.DataFrame(np.load('NewFireData.npy'), columns=['day', 'lat', 'lon', 'num_cause', 'tarray', 'xybinarray', 'fire'])\n",
    "df = df[df['num_cause'] == 2 ].drop('num_cause',axis=1).astype(int, copy=False)\n",
    "\n",
    "# Need to create new fake fires since the fake fire don't have the good distribution.\n",
    "# There is no fake_fire in df because fake_fire don't have 'num_cause'\n",
    "loc = np.load('FullLocData.npy')\n",
    "ix = loc[:,0]\n",
    "iy = loc[:,1]\n",
    "nx, ny = 140, 62 # Need to be the same as when I produced FullLocData.npy\n",
    "ybin = np.linspace(0,621,ny, dtype=int)\n",
    "xbin = np.linspace(0,1405,nx, dtype=int)\n",
    "yloc = ybin[iy]\n",
    "xloc = xbin[ix]\n",
    "xtobin = {}\n",
    "prevx = xloc[0]\n",
    "istart = 0\n",
    "for i, x in enumerate(xloc[1:]):\n",
    "    if x != prevx:\n",
    "        xtobin[prevx] = (istart, i)\n",
    "        istart = i+1\n",
    "    prevx = x\n",
    "xtobin[prevx] = (istart, len(xloc)-1)\n",
    "\n",
    "def binarysearch(lon,xbin,beg,end):\n",
    "    if beg == end:\n",
    "        return xtobin[xbin[beg]]\n",
    "    if beg == end-1 and lon < xbin[end]:\n",
    "        return xtobin[xbin[beg]]\n",
    "    center = (beg+end)//2\n",
    "    value = xbin[center]\n",
    "    if lon >= value:\n",
    "        return binarysearch(lon,xbin,center,end)\n",
    "    return binarysearch(lon,xbin,beg,center)\n",
    "    \n",
    "def binarysearch2(lon,xbin,beg,end):\n",
    "    if beg == end:\n",
    "        return beg\n",
    "    if beg == end-1:\n",
    "        if lon == xbin[end]:\n",
    "            return end\n",
    "        return beg\n",
    "    center = (beg+end)//2\n",
    "    value = xbin[center]\n",
    "    if lon >= value:\n",
    "        return binarysearch2(lon,xbin,center,end)\n",
    "    return binarysearch2(lon,xbin,beg,center)\n",
    "\n",
    "def findxybin(lon,lat):\n",
    "    beg, end = binarysearch(lon,xbin,0,len(xbin)-1)\n",
    "    if lat > yloc[end]:\n",
    "        return end\n",
    "    return binarysearch2(lat,yloc,beg,end)\n",
    "\n",
    "def createfake(firepredict):\n",
    "    affine2,affine0,affine5,affine4 = -125.02083333333333, 0.04166666666667, 49.93750000000203, -0.04166666666667\n",
    "    s = len(firepredict)\n",
    "    lonlat = firepredict[['lon','lat']].sample(n=s,replace=True).reset_index(drop=True)\n",
    "    t = firepredict['tarray'].sample(n=s,replace=True).reset_index(drop=True)\n",
    "    fakefire = lonlat.join(t)\n",
    "\n",
    "    fakefire['day'] = fakefire['tarray'].apply(lambda x: (pd.Timedelta(x,'D') + pd.to_datetime('1992-01-01')).dayofyear)\n",
    "\n",
    "    # get xybin\n",
    "    lonarray = (fakefire['lon'].values - affine2)//affine0\n",
    "    latarray = (fakefire['lat'].values - affine5)//affine4\n",
    "    fakefire['xybinarray'] = np.vectorize(findxybin,otypes=[int])(lonarray,latarray)\n",
    "\n",
    "    # align columns\n",
    "    firepredict, fakefire = firepredict.align(fakefire,axis=1,copy=False)\n",
    "    \n",
    "    fakefire['fire']=False\n",
    "    firepredict['fire']=True\n",
    "    return pd.concat([fakefire,firepredict])\n",
    "\n",
    "df = createfake(df)\n",
    "\n",
    "# ________________________________________________\n",
    "def moddf(df):\n",
    "    df0 = df.drop(['tarray', 'xybinarray'],axis=1).values\n",
    "    df0 = (df0-df0.mean())/ df0.std()\n",
    "    \n",
    "    tarray = df['tarray'].values\n",
    "    xybinarray = df['xybinarray'].values\n",
    "    df1 = np.empty((len(df),31,4))\n",
    "    for i in range(0,31):\n",
    "        for j in range(0,4):\n",
    "            df1[:,i,j] = weatherData[tarray-i, xybinarray,j]\n",
    "    # Normalize features\n",
    "    df1 = (df1-df1.mean())/ df1.std()\n",
    "    \n",
    "    return df0, df1\n",
    "\n",
    "xdf = df.drop('fire',axis=1)\n",
    "y = df['fire'].values\n",
    "x0, x1 = moddf(xdf)\n",
    "X0, X0_test, X1, X1_test, y, y_test = train_test_split(\n",
    "    x0, x1, y, test_size=0.1, shuffle=True)\n",
    "X0_train, X0_val, X1_train, X1_val, y_train, y_val = train_test_split(\n",
    "    X0, X1, y, test_size=0.1, shuffle=True)\n",
    "\n",
    "np.save('X0_trainL', X0_train, allow_pickle=True, fix_imports=False)\n",
    "np.save('X1_trainL', X1_train, allow_pickle=True, fix_imports=False)\n",
    "np.save('y_trainL', y_train, allow_pickle=True, fix_imports=False)\n",
    "np.save('X0_valL', X0_val, allow_pickle=True, fix_imports=False)\n",
    "np.save('X1_valL', X1_val, allow_pickle=True, fix_imports=False)\n",
    "np.save('y_valL', y_val, allow_pickle=True, fix_imports=False)\n",
    "np.save('X0_testL', X0_test, allow_pickle=True, fix_imports=False)\n",
    "np.save('X1_testL', X1_test, allow_pickle=True, fix_imports=False)\n",
    "np.save('y_testL', y_test, allow_pickle=True, fix_imports=False)"
   ]
  },
  {
   "cell_type": "markdown",
   "metadata": {},
   "source": [
    "### Load data"
   ]
  },
  {
   "cell_type": "code",
   "execution_count": null,
   "metadata": {
    "collapsed": true
   },
   "outputs": [],
   "source": [
    "X0_train = np.load('X0_trainL.npy', mmap_mode='r')\n",
    "X1_train = np.load('X1_trainL.npy', mmap_mode='r')\n",
    "y_train = np.load('y_trainL.npy', mmap_mode='r')\n",
    "X0_val = np.load('X0_valL.npy')\n",
    "X1_val = np.load('X1_valL.npy')\n",
    "y_val = np.load('y_valL.npy')\n",
    "X0_test = np.load('X0_testL.npy')\n",
    "X1_test = np.load('X1_testL.npy')\n",
    "y_test = np.load('y_testL.npy')\n",
    "\n",
    "length_train = X0_train.shape[1]\n",
    "print(length_train)\n",
    "indices = np.arange(length_train, dtype=int)"
   ]
  },
  {
   "cell_type": "code",
   "execution_count": 58,
   "metadata": {
    "collapsed": true
   },
   "outputs": [],
   "source": [
    "def generator(batchSize=512):\n",
    "    while True:\n",
    "        np.random.shuffle(indices)\n",
    "        for i in range(0, len(indices), batchSize):\n",
    "            batch_indices = indices[i:i+batchSize]\n",
    "            batch_indices.sort()\n",
    "\n",
    "            bx0 = X0_train[batch_indices,...]\n",
    "            bx1 = X1_train[batch_indices,...]\n",
    "            by = y_train[batch_indices,...]\n",
    "\n",
    "            yield ([bx0,bx1], by)"
   ]
  },
  {
   "cell_type": "markdown",
   "metadata": {},
   "source": [
    "### Train neuronet (GRU)"
   ]
  },
  {
   "cell_type": "code",
   "execution_count": 59,
   "metadata": {
    "collapsed": true
   },
   "outputs": [],
   "source": [
    "def fit(nUnits, batchSize, timelimit, nlayer, nlayer2):\n",
    "    x0 = Input(shape=(3,)) # location and day\n",
    "    x1 = Input(shape=(31,4)) # weather\n",
    "    # first\n",
    "    inistate = Dense(nUnits, activation = 'relu')(x0)\n",
    "    x = GRU(nUnits, return_sequences=True)(x1, initial_state = inistate) \n",
    "    # nlayer middle layers\n",
    "    for _ in range(nlayer): \n",
    "        inistate = Dense(nUnits, activation = 'relu')(inistate)\n",
    "        x = GRU(nUnits, return_sequences=True)(x, initial_state = inistate) \n",
    "    # last\n",
    "    inistate = Dense(nUnits, activation = 'relu')(inistate)\n",
    "    x = GRU(nUnits, return_sequences=False)(x, initial_state = inistate) \n",
    "    inistate = Dense(nUnits, activation = 'relu')(inistate)\n",
    "    x = Concatenate()([x,inistate])\n",
    "    for _ in range(nlayer2): \n",
    "        x = Dense(nUnits, activation = 'relu')(x)\n",
    "    x = Dense(1, activation='sigmoid')(x)\n",
    "\n",
    "    model = Model(inputs=[x0,x1], outputs=x)\n",
    "    time_callback = TimeHistory()\n",
    "    timed_stopping = TimedStopping(timelimit)\n",
    "    model.compile(optimizer='adam', metrics=['acc'],\n",
    "                  loss='binary_crossentropy')\n",
    "    history.append(model.fit_generator(generator(batchSize),steps_per_epoch = length_train//batchSize\n",
    "                                        ,epochs=100, verbose=2, \n",
    "              validation_data=([X0_val,X1_val], y_val),callbacks=[time_callback, timed_stopping]))\n",
    "    xaxis.append(time_callback.times)\n",
    "    modelList.append(model) \n",
    "    \n",
    "def refit(batchsize, timelimit, model, patience):\n",
    "    time_callback = TimeHistory()\n",
    "    timed_stopping = TimedStopping(timelimit)\n",
    "    es = EarlyStopping(monitor='val_loss', min_delta=0., patience=patience)\n",
    "    refit_history.append(modelList[model].fit_generator(generator(batchsize),steps_per_epoch = 2973745//batchsize\n",
    "                                        ,epochs=200, verbose=2, \n",
    "              validation_data=([X0_val,X1_val], y_val),callbacks=[time_callback, timed_stopping, es]))\n",
    "    refit_xaxis.append(time_callback.times)"
   ]
  },
  {
   "cell_type": "code",
   "execution_count": 61,
   "metadata": {
    "collapsed": false
   },
   "outputs": [
    {
     "name": "stdout",
     "output_type": "stream",
     "text": [
      "Epoch 1/100\n",
      "49s - loss: 0.6777 - acc: 0.5607 - val_loss: 0.6662 - val_acc: 0.5817\n",
      "Epoch 2/100\n",
      "48s - loss: 0.6581 - acc: 0.5952 - val_loss: 0.6503 - val_acc: 0.6036\n",
      "Epoch 3/100\n",
      "45s - loss: 0.6498 - acc: 0.6086 - val_loss: 0.6439 - val_acc: 0.6094\n",
      "Epoch 4/100\n",
      "45s - loss: 0.6406 - acc: 0.6205 - val_loss: 0.6353 - val_acc: 0.6232\n",
      "Epoch 5/100\n",
      "45s - loss: 0.6381 - acc: 0.6245 - val_loss: 0.6365 - val_acc: 0.6245\n",
      "Epoch 6/100\n",
      "45s - loss: 0.6335 - acc: 0.6269 - val_loss: 0.6301 - val_acc: 0.6312\n",
      "Epoch 7/100\n",
      "44s - loss: 0.6339 - acc: 0.6257 - val_loss: 0.6330 - val_acc: 0.6247\n"
     ]
    }
   ],
   "source": [
    "fit(nUnits = 80, batchSize = 1024, timelimit = 300, nlayer = 1, nlayer2 = 1)"
   ]
  },
  {
   "cell_type": "code",
   "execution_count": 62,
   "metadata": {
    "collapsed": false
   },
   "outputs": [
    {
     "name": "stdout",
     "output_type": "stream",
     "text": [
      "Epoch 1/100\n",
      "86s - loss: 0.6767 - acc: 0.5588 - val_loss: 0.6640 - val_acc: 0.5863\n",
      "Epoch 2/100\n",
      "83s - loss: 0.6560 - acc: 0.5971 - val_loss: 0.6444 - val_acc: 0.6167\n",
      "Epoch 3/100\n",
      "83s - loss: 0.6460 - acc: 0.6126 - val_loss: 0.6413 - val_acc: 0.6175\n",
      "Epoch 4/100\n",
      "83s - loss: 0.6412 - acc: 0.6180 - val_loss: 0.6384 - val_acc: 0.6190\n"
     ]
    }
   ],
   "source": [
    "fit(nUnits = 160, batchSize = 1024, timelimit = 300, nlayer = 1, nlayer2 = 1)"
   ]
  },
  {
   "cell_type": "code",
   "execution_count": 63,
   "metadata": {
    "collapsed": false
   },
   "outputs": [
    {
     "name": "stdout",
     "output_type": "stream",
     "text": [
      "Epoch 1/100\n",
      "63s - loss: 0.6789 - acc: 0.5580 - val_loss: 0.6644 - val_acc: 0.5834\n",
      "Epoch 2/100\n",
      "59s - loss: 0.6567 - acc: 0.5977 - val_loss: 0.6510 - val_acc: 0.6025\n",
      "Epoch 3/100\n",
      "59s - loss: 0.6472 - acc: 0.6094 - val_loss: 0.6428 - val_acc: 0.6149\n",
      "Epoch 4/100\n",
      "59s - loss: 0.6467 - acc: 0.6130 - val_loss: 0.6389 - val_acc: 0.6233\n",
      "Epoch 5/100\n",
      "59s - loss: 0.6411 - acc: 0.6190 - val_loss: 0.6372 - val_acc: 0.6213\n"
     ]
    }
   ],
   "source": [
    "fit(nUnits = 80, batchSize = 1024, timelimit = 300, nlayer = 2, nlayer2 = 1)"
   ]
  },
  {
   "cell_type": "code",
   "execution_count": 64,
   "metadata": {
    "collapsed": false
   },
   "outputs": [
    {
     "name": "stdout",
     "output_type": "stream",
     "text": [
      "Epoch 1/100\n",
      "49s - loss: 0.6802 - acc: 0.5548 - val_loss: 0.6686 - val_acc: 0.5654\n",
      "Epoch 2/100\n",
      "45s - loss: 0.6632 - acc: 0.5867 - val_loss: 0.6536 - val_acc: 0.6005\n",
      "Epoch 3/100\n",
      "45s - loss: 0.6505 - acc: 0.6069 - val_loss: 0.6473 - val_acc: 0.6084\n",
      "Epoch 4/100\n",
      "45s - loss: 0.6441 - acc: 0.6155 - val_loss: 0.6376 - val_acc: 0.6225\n",
      "Epoch 5/100\n",
      "45s - loss: 0.6399 - acc: 0.6207 - val_loss: 0.6378 - val_acc: 0.6224\n",
      "Epoch 6/100\n",
      "45s - loss: 0.6380 - acc: 0.6225 - val_loss: 0.6331 - val_acc: 0.6300\n",
      "Epoch 7/100\n",
      "45s - loss: 0.6315 - acc: 0.6299 - val_loss: 0.6286 - val_acc: 0.6268\n"
     ]
    }
   ],
   "source": [
    "fit(nUnits = 80, batchSize = 1024, timelimit = 300, nlayer = 1, nlayer2 = 2)"
   ]
  },
  {
   "cell_type": "code",
   "execution_count": 68,
   "metadata": {
    "collapsed": false
   },
   "outputs": [
    {
     "name": "stdout",
     "output_type": "stream",
     "text": [
      "548698\n"
     ]
    }
   ],
   "source": [
    "print(len(df))"
   ]
  },
  {
   "cell_type": "markdown",
   "metadata": {},
   "source": [
    "Now, it's only for the fires due to lightning. One might expect to get a better accuracy due to the lightning fires being more\n",
    "related to weather, but on the other hand, there is much less data. Only 548698 rather than 1.88 million, only 29%."
   ]
  },
  {
   "cell_type": "code",
   "execution_count": 70,
   "metadata": {
    "collapsed": false
   },
   "outputs": [
    {
     "data": {
      "image/png": "[encoded data removed]",
      "text/plain": [
       "<matplotlib.figure.Figure at 0x2468c829668>"
      ]
     },
     "metadata": {},
     "output_type": "display_data"
    }
   ],
   "source": [
    "Plot(0, 'acc', '80,1,1')\n",
    "Plot(1, 'acc', '160,1,1')\n",
    "Plot(2, 'acc', '80,2,1')\n",
    "Plot(3, 'acc', '80,1,2')\n",
    "plt.legend();"
   ]
  },
  {
   "cell_type": "code",
   "execution_count": null,
   "metadata": {
    "collapsed": true
   },
   "outputs": [],
   "source": []
  }
 ],
 "metadata": {
  "kernelspec": {
   "display_name": "Python [conda env:tensorflowgpu]",
   "language": "python",
   "name": "conda-env-tensorflowgpu-py"
  },
  "language_info": {
   "codemirror_mode": {
    "name": "ipython",
    "version": 3
   },
   "file_extension": ".py",
   "mimetype": "text/x-python",
   "name": "python",
   "nbconvert_exporter": "python",
   "pygments_lexer": "ipython3",
   "version": "3.5.3"
  }
 },
 "nbformat": 4,
 "nbformat_minor": 2
}
