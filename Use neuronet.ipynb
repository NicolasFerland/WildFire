{
 "cells": [
  {
   "cell_type": "code",
   "execution_count": 2,
   "metadata": {
    "collapsed": false
   },
   "outputs": [],
   "source": [
    "from IPython.display import display\n",
    "import matplotlib.pyplot as plt\n",
    "import pandas as pd\n",
    "import numpy as np\n",
    "from keras.models import Sequential\n",
    "%matplotlib inline\n",
    "\n",
    "from keras.layers.convolutional import Conv2D\n",
    "from keras.layers.convolutional import MaxPooling2D\n",
    "from keras.layers.core import Activation\n",
    "from keras.layers.core import Flatten\n",
    "from keras.layers.core import Dense\n",
    "from keras.layers.core import Dropout\n",
    "from keras.layers.normalization import BatchNormalization\n",
    "\n",
    "from keras.utils import to_categorical\n",
    "\n",
    "from sklearn.metrics import accuracy_score\n",
    "from numpy import argmax\n",
    "from sklearn.model_selection import train_test_split\n",
    "\n",
    "from keras.callbacks import ModelCheckpoint\n",
    "from keras.callbacks import EarlyStopping\n",
    "\n",
    "# Other useful layers\n",
    "from keras.layers.pooling import GlobalMaxPooling2D\n",
    "from keras.layers.pooling import GlobalAveragePooling2D"
   ]
  },
  {
   "cell_type": "code",
   "execution_count": 4,
   "metadata": {
    "collapsed": false
   },
   "outputs": [
    {
     "ename": "ImportError",
     "evalue": "No module named 'rasterio'",
     "output_type": "error",
     "traceback": [
      "\u001b[1;31m---------------------------------------------------------------------------\u001b[0m",
      "\u001b[1;31mImportError\u001b[0m                               Traceback (most recent call last)",
      "\u001b[1;32m<ipython-input-4-7126fc69c2b1>\u001b[0m in \u001b[0;36m<module>\u001b[1;34m()\u001b[0m\n\u001b[0;32m      1\u001b[0m \u001b[1;31m# data should be split into region of latitude and longitude. Each month should be separated.\u001b[0m\u001b[1;33m\u001b[0m\u001b[1;33m\u001b[0m\u001b[0m\n\u001b[1;32m----> 2\u001b[1;33m \u001b[1;32mimport\u001b[0m \u001b[0mrasterio\u001b[0m\u001b[1;33m\u001b[0m\u001b[0m\n\u001b[0m\u001b[0;32m      3\u001b[0m \u001b[0mybin\u001b[0m \u001b[1;33m=\u001b[0m \u001b[0mnp\u001b[0m\u001b[1;33m.\u001b[0m\u001b[0mlinspace\u001b[0m\u001b[1;33m(\u001b[0m\u001b[1;36m0\u001b[0m\u001b[1;33m,\u001b[0m\u001b[1;36m621\u001b[0m\u001b[1;33m,\u001b[0m\u001b[1;36m50\u001b[0m\u001b[1;33m,\u001b[0m \u001b[0mdtype\u001b[0m\u001b[1;33m=\u001b[0m\u001b[0mint\u001b[0m\u001b[1;33m)\u001b[0m\u001b[1;33m\u001b[0m\u001b[0m\n\u001b[0;32m      4\u001b[0m \u001b[0mxbin\u001b[0m \u001b[1;33m=\u001b[0m \u001b[0mnp\u001b[0m\u001b[1;33m.\u001b[0m\u001b[0mlinspace\u001b[0m\u001b[1;33m(\u001b[0m\u001b[1;36m0\u001b[0m\u001b[1;33m,\u001b[0m\u001b[1;36m1405\u001b[0m\u001b[1;33m,\u001b[0m\u001b[1;36m100\u001b[0m\u001b[1;33m,\u001b[0m \u001b[0mdtype\u001b[0m\u001b[1;33m=\u001b[0m\u001b[0mint\u001b[0m\u001b[1;33m)\u001b[0m\u001b[1;33m\u001b[0m\u001b[0m\n\u001b[0;32m      5\u001b[0m \u001b[0maffine\u001b[0m \u001b[1;33m=\u001b[0m \u001b[0mrasterio\u001b[0m\u001b[1;33m.\u001b[0m\u001b[0mopen\u001b[0m\u001b[1;33m(\u001b[0m\u001b[1;34m'PRISM data\\Daily1991\\PRISM_ppt_stable_4kmD2_19910101_bil.bil'\u001b[0m\u001b[1;33m)\u001b[0m\u001b[1;33m.\u001b[0m\u001b[0maffine\u001b[0m\u001b[1;33m\u001b[0m\u001b[0m\n",
      "\u001b[1;31mImportError\u001b[0m: No module named 'rasterio'"
     ]
    }
   ],
   "source": [
    "# import data\n",
    "Data = numpy.load('Data')\n",
    "\n",
    "# split into train, valid, test"
   ]
  },
  {
   "cell_type": "code",
   "execution_count": null,
   "metadata": {
    "collapsed": true
   },
   "outputs": [],
   "source": [
    "# https://machinelearningmastery.com/time-series-forecasting-supervised-learning/\n",
    "# https://machinelearningmastery.com/multivariate-time-series-forecasting-lstms-keras/"
   ]
  },
  {
   "cell_type": "markdown",
   "metadata": {},
   "source": [
    "My thoughts:\n",
    "\n",
    "The hidden state should be how it is easy for the place to catch fire. LSTM might not be best for that; they are best for natural language in which they serve as counter which can be incremented by a number between -1 and 1 and have a forget gate that can easily put them to zero. For me, there is no need of a forget gate, it could be the identity since the risk of fire should not go to zero easily. I could have a RELU because the risk can't be negative.\n",
    "\n",
    "Though in fact, a forget gate can be useful when a fire is produced, since it will reduce the probability to have a fire at the same place. It depends how I ask the output to be though, since it will be very hard to predict the fire every day. If I average monthly for the fire, the forget gate might be useless.\n",
    "\n",
    "For the truncated backpropagation through time, I could use year long step.\n",
    "\n",
    "I'm using only the date of start of the fire, but the size of the fire depends also of the condition afterwards. Also, I will probably not be able to get the exact date of start of fire. Fire as spaced in time. So the loss should probably be computed by comparing Target with all the Output until we get a new non-zero Target. The first target should be zero, but then we should change target only when there is a fire (so it's non-zero).\n",
    "\n",
    "Using global information could be useful since it can give information about wind and some interaction between places about fire risk, but it will be hard to add without being computationnally intensive. Also, my xy bins are not optimized for that.\n",
    "\n",
    "I need to give information to the RNN about the location, since the location is an important risk of fire. It can be by the value of the initial hidden state, but it might need to come back more often to avoid it being washed away after some time. Also it won't be trained by truncated backpropagation through time, so if I'm using that, I probably need to input the location at each timestep. I could use a LSTM like unit in which the forget gate bring the cell state to an initial state that varies with the location rather than being 0.\n",
    "\n",
    "I could maybe separare localization in time and fire size and give a loss for both of them."
   ]
  },
  {
   "cell_type": "code",
   "execution_count": null,
   "metadata": {
    "collapsed": true
   },
   "outputs": [],
   "source": []
  },
  {
   "cell_type": "code",
   "execution_count": null,
   "metadata": {
    "collapsed": true
   },
   "outputs": [],
   "source": [
    "model = Sequential()\n",
    "# start with a channel x lon x lat x time\n",
    "model.add(Conv2D(filters=20, kernel_size=3, padding=\"same\", input_shape=(28, 28, 1), \n",
    "                 activation='relu'))\n",
    "model.add(BatchNormalization())\n",
    "model.add(MaxPooling2D(pool_size=(2, 2), strides=(2, 2)))\n",
    "model.add(Dropout(0.2))\n",
    "model.add(Conv2D(filters=50, kernel_size=3, padding=\"same\", activation='relu'))\n",
    "model.add(BatchNormalization())\n",
    "model.add(MaxPooling2D(pool_size=(2, 2), strides=(2, 2)))\n",
    "model.add(Dropout(0.2))\n",
    "model.add(Flatten())\n",
    "model.add(Dense(500, activation='relu'))\n",
    "model.add(BatchNormalization())\n",
    "model.add(Dropout(0.2))\n",
    "model.add(Dense(10, activation='softmax')) \n",
    "# end with a lon x lat x time array with total size.\n",
    "\n",
    "model.compile(optimizer='adam',\n",
    "              loss='mean_squared_error', # Use mean_squared_error\n",
    "              metrics=['accuracy'])\n",
    "\n",
    "callbacks = [EarlyStopping(monitor='val_acc', min_delta=0., patience=10)]\n",
    "\n",
    "for batchsize in [32, 64, 128, 256]:\n",
    "    model.fit(X_train, y_train, epochs=1, batch_size=batch_size,verbose=2,callbacks=callbacks,shuffle=True, \n",
    "              validation_data=(X_test, y_test))"
   ]
  }
 ],
 "metadata": {
  "kernelspec": {
   "display_name": "Python [conda env:tensorflowgpu]",
   "language": "python",
   "name": "conda-env-tensorflowgpu-py"
  },
  "language_info": {
   "codemirror_mode": {
    "name": "ipython",
    "version": 3
   },
   "file_extension": ".py",
   "mimetype": "text/x-python",
   "name": "python",
   "nbconvert_exporter": "python",
   "pygments_lexer": "ipython3",
   "version": "3.5.3"
  }
 },
 "nbformat": 4,
 "nbformat_minor": 2
}
